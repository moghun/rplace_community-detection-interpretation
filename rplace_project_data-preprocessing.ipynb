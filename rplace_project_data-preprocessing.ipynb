{
 "cells": [
  {
   "cell_type": "code",
   "execution_count": 14,
   "metadata": {
    "colab": {
     "base_uri": "https://localhost:8080/"
    },
    "id": "HZ2kuuR_dx4Y",
    "outputId": "a80eadd9-889e-42f1-b015-4930eb5009dc"
   },
   "outputs": [
    {
     "name": "stdout",
     "output_type": "stream",
     "text": [
      "Reading package lists... Done\n",
      "Building dependency tree       \n",
      "Reading state information... Done\n",
      "The following package was automatically installed and is no longer required:\n",
      "  libnvidia-common-460\n",
      "Use 'apt autoremove' to remove it.\n",
      "The following NEW packages will be installed:\n",
      "  zstd\n",
      "0 upgraded, 1 newly installed, 0 to remove and 49 not upgraded.\n",
      "Need to get 278 kB of archives.\n",
      "After this operation, 1,141 kB of additional disk space will be used.\n",
      "Get:1 http://archive.ubuntu.com/ubuntu bionic-updates/universe amd64 zstd amd64 1.3.3+dfsg-2ubuntu1.2 [278 kB]\n",
      "Fetched 278 kB in 1s (436 kB/s)\n",
      "Selecting previously unselected package zstd.\n",
      "(Reading database ... 155639 files and directories currently installed.)\n",
      "Preparing to unpack .../zstd_1.3.3+dfsg-2ubuntu1.2_amd64.deb ...\n",
      "Unpacking zstd (1.3.3+dfsg-2ubuntu1.2) ...\n",
      "Setting up zstd (1.3.3+dfsg-2ubuntu1.2) ...\n",
      "Processing triggers for man-db (2.8.3-2ubuntu0.1) ...\n",
      "CS48002_rPlace_data/2022-compact.csv.zst: 5615366190 bytes \n"
     ]
    }
   ],
   "source": [
    "!apt-get install zstd\n",
    "!unzstd CS48002_rPlace_data/2022-compact.csv.zst"
   ]
  },
  {
   "cell_type": "code",
   "execution_count": 1,
   "metadata": {},
   "outputs": [
    {
     "name": "stdout",
     "output_type": "stream",
     "text": [
      "total 2,9G\r\n",
      "drwxr-xr-x  3 eak users    6 Haz 22 20:15 .\r\n",
      "drwxr-xr-x 12 eak users   10 Haz 22 16:39 ..\r\n",
      "-rw-r--r--  1 eak users 5,3G Haz 22 17:35 2022-compact.csv\r\n",
      "-rw-r--r--  1 eak users  68K Haz 22 17:00 data.csv\r\n",
      "-rw-r--r--  1 eak users 864K Haz 22 16:58 data.zip\r\n",
      "drwxr-xr-x  2 eak users    1 Haz 22 16:50 .ipynb_checkpoints\r\n",
      "-rw-r--r--  1 eak users 7,1K Haz 22 20:17 jupyter-769217.out\r\n",
      "-rw-r--r--  1 eak users  22K Haz 22 19:18 rPlace_NetSci.ipynb\r\n"
     ]
    }
   ],
   "source": [
    "!ls -ahl"
   ]
  },
  {
   "cell_type": "code",
   "execution_count": 2,
   "metadata": {
    "colab": {
     "base_uri": "https://localhost:8080/"
    },
    "id": "cHgDbhQbhd1O",
    "outputId": "96c2b869-2825-4198-f87a-ed7979aebeab",
    "scrolled": false
   },
   "outputs": [],
   "source": [
    "import numpy as np\n",
    "import pandas as pd\n",
    "import networkx as nx\n",
    "import matplotlib.pyplot as plt\n"
   ]
  },
  {
   "cell_type": "code",
   "execution_count": 3,
   "metadata": {
    "id": "z1JSxTnRg1T_"
   },
   "outputs": [],
   "source": [
    "PATH =  \"./2022-compact.csv\"\n",
    "df = pd.read_csv(PATH)"
   ]
  },
  {
   "cell_type": "code",
   "execution_count": 4,
   "metadata": {},
   "outputs": [
    {
     "data": {
      "text/plain": [
       "Index(['timestamp', 'user_hash', 'color', 'x_coordinate', 'y_coordinate',\n",
       "       'x2_coordinate', 'y2_coordinate'],\n",
       "      dtype='object')"
      ]
     },
     "execution_count": 4,
     "metadata": {},
     "output_type": "execute_result"
    }
   ],
   "source": [
    "df.columns"
   ]
  },
  {
   "cell_type": "code",
   "execution_count": 5,
   "metadata": {},
   "outputs": [
    {
     "data": {
      "text/plain": [
       "0           NaN\n",
       "1           NaN\n",
       "2           NaN\n",
       "3           NaN\n",
       "4           NaN\n",
       "             ..\n",
       "160353099   NaN\n",
       "160353100   NaN\n",
       "160353101   NaN\n",
       "160353102   NaN\n",
       "160353103   NaN\n",
       "Name: y2_coordinate, Length: 160353104, dtype: float64"
      ]
     },
     "execution_count": 5,
     "metadata": {},
     "output_type": "execute_result"
    }
   ],
   "source": [
    "df['y2_coordinate']"
   ]
  },
  {
   "cell_type": "code",
   "execution_count": 6,
   "metadata": {},
   "outputs": [],
   "source": [
    "# bcs it is empty in the data, no need\n",
    "df.drop('x2_coordinate', axis=1, inplace=True)\n",
    "df.drop('y2_coordinate', axis=1, inplace=True)"
   ]
  },
  {
   "cell_type": "code",
   "execution_count": 7,
   "metadata": {},
   "outputs": [
    {
     "name": "stdout",
     "output_type": "stream",
     "text": [
      "Number of users participated to event is:  10381163\n"
     ]
    }
   ],
   "source": [
    "unique_users = df['user_hash'].unique()\n",
    "print('Number of users participated to event is: ', len(unique_users))"
   ]
  },
  {
   "cell_type": "code",
   "execution_count": 8,
   "metadata": {},
   "outputs": [],
   "source": [
    "value_counts = df.user_hash.value_counts()"
   ]
  },
  {
   "cell_type": "code",
   "execution_count": 9,
   "metadata": {},
   "outputs": [
    {
     "name": "stdout",
     "output_type": "stream",
     "text": [
      "Totally 10381163 number of user is participated to tile event. Moreover, 9611718 number of people \n",
      " placed more than 50 tiles, which is equal to 87803612 totally.\n"
     ]
    }
   ],
   "source": [
    "# x = plt.hist(value_counts[value_counts > 20], bins=100)\n",
    "\n",
    "print(f\"Totally {len(value_counts)} number of user is participated to tile event. Moreover, {len(value_counts[value_counts < 50])} number of people \\n placed more than 50 tiles, which is equal to {sum(value_counts[value_counts < 50])} totally.\" )"
   ]
  },
  {
   "cell_type": "code",
   "execution_count": 14,
   "metadata": {},
   "outputs": [
    {
     "data": {
      "image/png": "[encoded data removed]",
      "text/plain": [
       "<Figure size 432x288 with 1 Axes>"
      ]
     },
     "metadata": {
      "needs_background": "light"
     },
     "output_type": "display_data"
    }
   ],
   "source": [
    "x = plt.hist(value_counts[value_counts < 50], bins=50)"
   ]
  },
  {
   "cell_type": "code",
   "execution_count": 11,
   "metadata": {},
   "outputs": [
    {
     "data": {
      "image/png": "[encoded data removed]",
      "text/plain": [
       "<Figure size 432x288 with 1 Axes>"
      ]
     },
     "metadata": {
      "needs_background": "light"
     },
     "output_type": "display_data"
    }
   ],
   "source": [
    "x = plt.hist(value_counts, bins=100)"
   ]
  },
  {
   "cell_type": "code",
   "execution_count": 12,
   "metadata": {},
   "outputs": [
    {
     "data": {
      "text/plain": [
       "(1999, 1999)"
      ]
     },
     "execution_count": 12,
     "metadata": {},
     "output_type": "execute_result"
    }
   ],
   "source": [
    "max(df['x_coordinate']), max(df['y_coordinate'])"
   ]
  },
  {
   "cell_type": "code",
   "execution_count": 15,
   "metadata": {},
   "outputs": [],
   "source": [
    "event_coordinates = [\n",
    "    [(300,319),(431,319),(300,398),(431,398)],\n",
    "    [(300,344),(479,344),(300,448),(479,448)],\n",
    "    [(1724,1173),(1882,1173),(1724,1328),(1882,1328)],\n",
    "    [(682,682),(772,682),(682,772),(772,772)],\n",
    "    [(321, 314), (321, 324), (331, 321), (331, 324)],\n",
    "    [(1201, 701), (1201, 772), (1201, 701), (1328, 772)]\n",
    "]\n",
    "\n",
    "time_frames = [\n",
    "    (1648852080000, 1648853520000),\n",
    "    (1648953060000, 1648956000000),\n",
    "    (1649020140000, 1649024100000),\n",
    "    (1648956660000, 1648959840000),\n",
    "    (1648834740000, 1648836660000),\n",
    "    (1648921140000, 1648927260000)\n",
    "]"
   ]
  },
  {
   "cell_type": "code",
   "execution_count": 16,
   "metadata": {},
   "outputs": [
    {
     "data": {
      "text/plain": [
       "Index(['timestamp', 'user_hash', 'color', 'x_coordinate', 'y_coordinate'], dtype='object')"
      ]
     },
     "execution_count": 16,
     "metadata": {},
     "output_type": "execute_result"
    }
   ],
   "source": [
    "df.columns"
   ]
  },
  {
   "cell_type": "code",
   "execution_count": 17,
   "metadata": {},
   "outputs": [
    {
     "name": "stdout",
     "output_type": "stream",
     "text": [
      "Event 1\n",
      "Event 2\n",
      "Event 3\n",
      "Event 4\n",
      "Event 5\n",
      "Event 6\n"
     ]
    }
   ],
   "source": [
    "edges = []\n",
    "nodes = []\n",
    "look_up_table = dict()\n",
    "\n",
    "i = 0\n",
    "for i in range(6):\n",
    "    \n",
    "    print(f'Event {i+1}')\n",
    "\n",
    "    event_i = df[\n",
    "        (df.x_coordinate >= event_coordinates[i][0][0]) & \n",
    "        (df.x_coordinate <=  event_coordinates[i][1][0]) & \n",
    "        (df.y_coordinate >=  event_coordinates[i][0][1]) &\n",
    "        (df.y_coordinate <=  event_coordinates[i][1][1])\n",
    "    ]\n",
    "\n",
    "\n",
    "    event_i = event_i[\n",
    "        (event_i.timestamp >= time_frames[i][0]) &\n",
    "        (event_i.timestamp >= time_frames[i][1])\n",
    "    ]\n",
    "    \n",
    "    event_i.to_csv(f'event_{i}.csv')\n",
    "    \n",
    "    continue\n",
    "    unique_users = event_i.user_hash.unique()\n",
    "    for j,each_user in enumerate(unique_users):\n",
    "\n",
    "        if j % int((len(unique_users) / 20)) == 0:\n",
    "            print(f'%{j / len(unique_users) * 100}')\n",
    "\n",
    "        user_tiles = event_i[event_i.user_hash == each_user]\n",
    "        if look_up_table.get(each_user):\n",
    "            nodes.append(each_user)\n",
    "            look_up_table[each_user] = True\n",
    "\n",
    "        for other_user in unique_users:\n",
    "\n",
    "            if other_user == each_user:\n",
    "                continue\n",
    "\n",
    "            if len(user_tiles) > 2:\n",
    "                edges.append((each_user, other_user, user_tiles))\n",
    "\n",
    "            if look_up_table.get(other_user):\n",
    "                nodes.append(other_user)\n",
    "                look_up_table[other_user] = True\n",
    "                \n",
    "graph = nx.Graph()\n",
    "graph.add_nodes_from(nodes)\n",
    "graph.add_weighted_edges_from(edges)"
   ]
  },
  {
   "cell_type": "code",
   "execution_count": 18,
   "metadata": {},
   "outputs": [
    {
     "name": "stdout",
     "output_type": "stream",
     "text": [
      "2022-compact.csv  event_1.csv\tevent_3.csv\t    rPlace_NetSci.ipynb\r\n",
      "data.csv\t  event_1.gexf\tevent_4.csv\r\n",
      "data.zip\t  event_2.csv\tevent_5.csv\r\n",
      "event_0.csv\t  event_2.gexf\tjupyter-769365.out\r\n"
     ]
    }
   ],
   "source": [
    "!ls"
   ]
  },
  {
   "cell_type": "code",
   "execution_count": null,
   "metadata": {},
   "outputs": [],
   "source": []
  },
  {
   "cell_type": "code",
   "execution_count": 117,
   "metadata": {},
   "outputs": [
    {
     "data": {
      "text/plain": [
       "307714"
      ]
     },
     "execution_count": 117,
     "metadata": {},
     "output_type": "execute_result"
    }
   ],
   "source": [
    "graph.number_of_edges() "
   ]
  },
  {
   "cell_type": "code",
   "execution_count": 118,
   "metadata": {},
   "outputs": [
    {
     "data": {
      "text/plain": [
       "6582"
      ]
     },
     "execution_count": 118,
     "metadata": {},
     "output_type": "execute_result"
    }
   ],
   "source": [
    "graph.number_of_nodes() "
   ]
  },
  {
   "cell_type": "code",
   "execution_count": 119,
   "metadata": {},
   "outputs": [],
   "source": [
    "nx.write_gexf(graph, \"event_2.gexf\")"
   ]
  },
  {
   "cell_type": "code",
   "execution_count": 106,
   "metadata": {},
   "outputs": [
    {
     "name": "stdout",
     "output_type": "stream",
     "text": [
      "2022-compact.csv  data.zip\tjupyter-769217.out\r\n",
      "data.csv\t  event_1.gexf\trPlace_NetSci.ipynb\r\n"
     ]
    }
   ],
   "source": [
    "!ls"
   ]
  },
  {
   "cell_type": "code",
   "execution_count": null,
   "metadata": {},
   "outputs": [],
   "source": []
  },
  {
   "cell_type": "code",
   "execution_count": null,
   "metadata": {},
   "outputs": [],
   "source": [
    "event_coordinates = [\n",
    "[(300,319),(431,319),(300,398),(431,398)],\n",
    "[(300,344),(479,344),(300,448),(479,448)],\n",
    "[(1724,1173),(1882,1173),(1724,1328),(1882,1328)],\n",
    "[(682,682),(772,682),(682,772),(772,772)]\n",
    "]\n",
    "\n",
    "time_frames = [\n",
    "(1648852080000, 1648853520000),\n",
    "(1648953060000, 1648956000000),\n",
    "(1649020140000, 1649024100000),\n",
    "(1648956660000, 1648959840000)\n",
    "]"
   ]
  }
 ],
 "metadata": {
  "colab": {
   "name": "rPlace_NetSci.ipynb",
   "provenance": []
  },
  "kernelspec": {
   "display_name": "Python 3 (ipykernel)",
   "language": "python",
   "name": "python3"
  },
  "language_info": {
   "codemirror_mode": {
    "name": "ipython",
    "version": 3
   },
   "file_extension": ".py",
   "mimetype": "text/x-python",
   "name": "python",
   "nbconvert_exporter": "python",
   "pygments_lexer": "ipython3",
   "version": "3.7.4"
  }
 },
 "nbformat": 4,
 "nbformat_minor": 1
}
