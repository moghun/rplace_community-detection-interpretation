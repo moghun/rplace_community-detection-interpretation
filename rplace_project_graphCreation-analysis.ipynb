{
  "nbformat": 4,
  "nbformat_minor": 0,
  "metadata": {
    "colab": {
      "name": "rplace_project-2.ipynb",
      "provenance": [],
      "toc_visible": true,
      "collapsed_sections": [
        "0SqEXhUmBIIG",
        "7xaq7_nOCuoW",
        "R5iTF0kHCyCT",
        "SSw9S4txBHKI",
        "Brjc_UP3C8EZ",
        "FM2QZYNHC9JZ",
        "Uzjb-pg7YDh8",
        "BaHPGCX0aof2",
        "rRS8Q-NPasgn",
        "mWAsDffsYGQr",
        "CISYMQVMbAoY",
        "aDWVik6QbC2T",
        "c9X0my01ba2Q",
        "fCyJkI9SbdU2",
        "OJ_aeaiwYNyt",
        "2nBkT-DBbfeV",
        "6dMayHaNbhEu",
        "_2ABW1nX1ZUT",
        "0RMEqKbF1liI",
        "_GauwSon1md3",
        "V_dwtFIT1qiq",
        "XfWtwEup6xB6"
      ]
    },
    "kernelspec": {
      "name": "python3",
      "display_name": "Python 3"
    },
    "language_info": {
      "name": "python"
    }
  },
  "cells": [
    {
      "cell_type": "code",
      "execution_count": 1,
      "metadata": {
        "colab": {
          "base_uri": "https://localhost:8080/"
        },
        "id": "tXhpvSO_0KAX",
        "outputId": "03fe6b9c-a04c-4004-dda0-ecb38c335941"
      },
      "outputs": [
        {
          "output_type": "stream",
          "name": "stdout",
          "text": [
            "Mounted at /content/drive\n"
          ]
        }
      ],
      "source": [
        "from google.colab import drive\n",
        "drive.mount('/content/drive')"
      ]
    },
    {
      "cell_type": "code",
      "source": [
        "cd drive/MyDrive/CS48002_rPlace_data"
      ],
      "metadata": {
        "colab": {
          "base_uri": "https://localhost:8080/"
        },
        "id": "Rm6P6qMp03i7",
        "outputId": "92c53ae5-f668-4a49-d155-f9c4a44021e5"
      },
      "execution_count": 3,
      "outputs": [
        {
          "output_type": "stream",
          "name": "stdout",
          "text": [
            "/content/drive/MyDrive/CS48002_rPlace_data\n"
          ]
        }
      ]
    },
    {
      "cell_type": "markdown",
      "source": [
        "# Graph Creation"
      ],
      "metadata": {
        "id": "jbTOhYLoWy5i"
      }
    },
    {
      "cell_type": "code",
      "source": [
        "import pandas as pd\n",
        "import numpy as np\n",
        "import networkx as nx"
      ],
      "metadata": {
        "id": "OGDHY0oT6wlQ"
      },
      "execution_count": 11,
      "outputs": []
    },
    {
      "cell_type": "markdown",
      "source": [
        "## Concatenated Events"
      ],
      "metadata": {
        "id": "aQSyZYfpRrp1"
      }
    },
    {
      "cell_type": "code",
      "source": [
        "df_event0 = pd.read_csv('event_0.csv')\n",
        "df_event1 = pd.read_csv('event_1.csv')\n",
        "df_event2 = pd.read_csv('event_2.csv')\n",
        "df_event3 = pd.read_csv('event_3.csv')\n",
        "df_event4 = pd.read_csv('event_4.csv')\n",
        "df_event5 = pd.read_csv('event_5.csv')\n",
        "\n",
        "frames = [df_event0,df_event1,df_event2,df_event3,df_event4,df_event5]\n",
        "df = pd.concat(frames)"
      ],
      "metadata": {
        "id": "mS-zarhO1E6p"
      },
      "execution_count": 12,
      "outputs": []
    },
    {
      "cell_type": "code",
      "source": [
        "df.drop(\"Unnamed: 0\", axis=1, inplace=True)\n",
        "\n",
        "users = df[\"user_hash\"].unique()\n",
        "counts = df[\"user_hash\"].value_counts()\n",
        "\n",
        "\n",
        "print(\"Fields that describes a tile placement: \",df.columns)\n",
        "print(\"Number of tiles placed: \",df.shape)\n",
        "print(\"Number of users that place at least 1 tile: \",len(users))\n",
        "\n",
        "dummy = pd.DataFrame(counts.ge(3))\n",
        "a = dummy.query('user_hash == True')\n",
        "user_with_ge_3_tile = a.index.tolist()\n",
        "\n",
        "print(\"Number of users that placed more than 3 tiles: \",len(user_with_ge_3_tile))"
      ],
      "metadata": {
        "colab": {
          "base_uri": "https://localhost:8080/"
        },
        "id": "LQBhc2OS17Vu",
        "outputId": "77dff243-7ff8-4bcc-9d9e-da7d568cdb81"
      },
      "execution_count": null,
      "outputs": [
        {
          "output_type": "stream",
          "name": "stdout",
          "text": [
            "Fields that describes a tile placement:  Index(['timestamp', 'user_hash', 'color', 'x_coordinate', 'y_coordinate'], dtype='object')\n",
            "Number of tiles placed:  (36836, 5)\n",
            "Number of users that place at least 1 tile:  31774\n",
            "Number of users that placed more than 3 tiles:  851\n"
          ]
        }
      ]
    },
    {
      "cell_type": "code",
      "source": [
        "df = df.query('user_hash in '+ str(user_with_ge_3_tile))\n",
        "\n",
        "df"
      ],
      "metadata": {
        "colab": {
          "base_uri": "https://localhost:8080/",
          "height": 424
        },
        "id": "ehOHsEXK9ZnZ",
        "outputId": "cfc10d61-ff4d-456a-96f9-6550791ecf1c"
      },
      "execution_count": null,
      "outputs": [
        {
          "output_type": "execute_result",
          "data": {
            "text/plain": [
              "          timestamp  user_hash  color  x_coordinate  y_coordinate\n",
              "25    1648853661835    7165549      6           319           319\n",
              "26    1648853664837    8757550      0           393           319\n",
              "34    1648853671100    3722645      6           393           319\n",
              "80    1648854248339    1321792     31           320           319\n",
              "84    1648854321331    7165549      6           319           319\n",
              "...             ...        ...    ...           ...           ...\n",
              "1007  1649109484848    7602686     31          1201           757\n",
              "1027  1649112960719    5738085      0          1201           715\n",
              "1049  1649113524675    5738085      0          1201           716\n",
              "1052  1649114059156    4822320      0          1201           741\n",
              "1054  1649114112264    5738085      0          1201           714\n",
              "\n",
              "[3438 rows x 5 columns]"
            ],
            "text/html": [
              "\n",
              "  <div id=\"df-74b58d28-ca75-4dbc-a769-8f6a82081d3b\">\n",
              "    <div class=\"colab-df-container\">\n",
              "      <div>\n",
              "<style scoped>\n",
              "    .dataframe tbody tr th:only-of-type {\n",
              "        vertical-align: middle;\n",
              "    }\n",
              "\n",
              "    .dataframe tbody tr th {\n",
              "        vertical-align: top;\n",
              "    }\n",
              "\n",
              "    .dataframe thead th {\n",
              "        text-align: right;\n",
              "    }\n",
              "</style>\n",
              "<table border=\"1\" class=\"dataframe\">\n",
              "  <thead>\n",
              "    <tr style=\"text-align: right;\">\n",
              "      <th></th>\n",
              "      <th>timestamp</th>\n",
              "      <th>user_hash</th>\n",
              "      <th>color</th>\n",
              "      <th>x_coordinate</th>\n",
              "      <th>y_coordinate</th>\n",
              "    </tr>\n",
              "  </thead>\n",
              "  <tbody>\n",
              "    <tr>\n",
              "      <th>25</th>\n",
              "      <td>1648853661835</td>\n",
              "      <td>7165549</td>\n",
              "      <td>6</td>\n",
              "      <td>319</td>\n",
              "      <td>319</td>\n",
              "    </tr>\n",
              "    <tr>\n",
              "      <th>26</th>\n",
              "      <td>1648853664837</td>\n",
              "      <td>8757550</td>\n",
              "      <td>0</td>\n",
              "      <td>393</td>\n",
              "      <td>319</td>\n",
              "    </tr>\n",
              "    <tr>\n",
              "      <th>34</th>\n",
              "      <td>1648853671100</td>\n",
              "      <td>3722645</td>\n",
              "      <td>6</td>\n",
              "      <td>393</td>\n",
              "      <td>319</td>\n",
              "    </tr>\n",
              "    <tr>\n",
              "      <th>80</th>\n",
              "      <td>1648854248339</td>\n",
              "      <td>1321792</td>\n",
              "      <td>31</td>\n",
              "      <td>320</td>\n",
              "      <td>319</td>\n",
              "    </tr>\n",
              "    <tr>\n",
              "      <th>84</th>\n",
              "      <td>1648854321331</td>\n",
              "      <td>7165549</td>\n",
              "      <td>6</td>\n",
              "      <td>319</td>\n",
              "      <td>319</td>\n",
              "    </tr>\n",
              "    <tr>\n",
              "      <th>...</th>\n",
              "      <td>...</td>\n",
              "      <td>...</td>\n",
              "      <td>...</td>\n",
              "      <td>...</td>\n",
              "      <td>...</td>\n",
              "    </tr>\n",
              "    <tr>\n",
              "      <th>1007</th>\n",
              "      <td>1649109484848</td>\n",
              "      <td>7602686</td>\n",
              "      <td>31</td>\n",
              "      <td>1201</td>\n",
              "      <td>757</td>\n",
              "    </tr>\n",
              "    <tr>\n",
              "      <th>1027</th>\n",
              "      <td>1649112960719</td>\n",
              "      <td>5738085</td>\n",
              "      <td>0</td>\n",
              "      <td>1201</td>\n",
              "      <td>715</td>\n",
              "    </tr>\n",
              "    <tr>\n",
              "      <th>1049</th>\n",
              "      <td>1649113524675</td>\n",
              "      <td>5738085</td>\n",
              "      <td>0</td>\n",
              "      <td>1201</td>\n",
              "      <td>716</td>\n",
              "    </tr>\n",
              "    <tr>\n",
              "      <th>1052</th>\n",
              "      <td>1649114059156</td>\n",
              "      <td>4822320</td>\n",
              "      <td>0</td>\n",
              "      <td>1201</td>\n",
              "      <td>741</td>\n",
              "    </tr>\n",
              "    <tr>\n",
              "      <th>1054</th>\n",
              "      <td>1649114112264</td>\n",
              "      <td>5738085</td>\n",
              "      <td>0</td>\n",
              "      <td>1201</td>\n",
              "      <td>714</td>\n",
              "    </tr>\n",
              "  </tbody>\n",
              "</table>\n",
              "<p>3438 rows × 5 columns</p>\n",
              "</div>\n",
              "      <button class=\"colab-df-convert\" onclick=\"convertToInteractive('df-74b58d28-ca75-4dbc-a769-8f6a82081d3b')\"\n",
              "              title=\"Convert this dataframe to an interactive table.\"\n",
              "              style=\"display:none;\">\n",
              "        \n",
              "  <svg xmlns=\"http://www.w3.org/2000/svg\" height=\"24px\"viewBox=\"0 0 24 24\"\n",
              "       width=\"24px\">\n",
              "    <path d=\"M0 0h24v24H0V0z\" fill=\"none\"/>\n",
              "    <path d=\"M18.56 5.44l.94 2.06.94-2.06 2.06-.94-2.06-.94-.94-2.06-.94 2.06-2.06.94zm-11 1L8.5 8.5l.94-2.06 2.06-.94-2.06-.94L8.5 2.5l-.94 2.06-2.06.94zm10 10l.94 2.06.94-2.06 2.06-.94-2.06-.94-.94-2.06-.94 2.06-2.06.94z\"/><path d=\"M17.41 7.96l-1.37-1.37c-.4-.4-.92-.59-1.43-.59-.52 0-1.04.2-1.43.59L10.3 9.45l-7.72 7.72c-.78.78-.78 2.05 0 2.83L4 21.41c.39.39.9.59 1.41.59.51 0 1.02-.2 1.41-.59l7.78-7.78 2.81-2.81c.8-.78.8-2.07 0-2.86zM5.41 20L4 18.59l7.72-7.72 1.47 1.35L5.41 20z\"/>\n",
              "  </svg>\n",
              "      </button>\n",
              "      \n",
              "  <style>\n",
              "    .colab-df-container {\n",
              "      display:flex;\n",
              "      flex-wrap:wrap;\n",
              "      gap: 12px;\n",
              "    }\n",
              "\n",
              "    .colab-df-convert {\n",
              "      background-color: #E8F0FE;\n",
              "      border: none;\n",
              "      border-radius: 50%;\n",
              "      cursor: pointer;\n",
              "      display: none;\n",
              "      fill: #1967D2;\n",
              "      height: 32px;\n",
              "      padding: 0 0 0 0;\n",
              "      width: 32px;\n",
              "    }\n",
              "\n",
              "    .colab-df-convert:hover {\n",
              "      background-color: #E2EBFA;\n",
              "      box-shadow: 0px 1px 2px rgba(60, 64, 67, 0.3), 0px 1px 3px 1px rgba(60, 64, 67, 0.15);\n",
              "      fill: #174EA6;\n",
              "    }\n",
              "\n",
              "    [theme=dark] .colab-df-convert {\n",
              "      background-color: #3B4455;\n",
              "      fill: #D2E3FC;\n",
              "    }\n",
              "\n",
              "    [theme=dark] .colab-df-convert:hover {\n",
              "      background-color: #434B5C;\n",
              "      box-shadow: 0px 1px 3px 1px rgba(0, 0, 0, 0.15);\n",
              "      filter: drop-shadow(0px 1px 2px rgba(0, 0, 0, 0.3));\n",
              "      fill: #FFFFFF;\n",
              "    }\n",
              "  </style>\n",
              "\n",
              "      <script>\n",
              "        const buttonEl =\n",
              "          document.querySelector('#df-74b58d28-ca75-4dbc-a769-8f6a82081d3b button.colab-df-convert');\n",
              "        buttonEl.style.display =\n",
              "          google.colab.kernel.accessAllowed ? 'block' : 'none';\n",
              "\n",
              "        async function convertToInteractive(key) {\n",
              "          const element = document.querySelector('#df-74b58d28-ca75-4dbc-a769-8f6a82081d3b');\n",
              "          const dataTable =\n",
              "            await google.colab.kernel.invokeFunction('convertToInteractive',\n",
              "                                                     [key], {});\n",
              "          if (!dataTable) return;\n",
              "\n",
              "          const docLinkHtml = 'Like what you see? Visit the ' +\n",
              "            '<a target=\"_blank\" href=https://colab.research.google.com/notebooks/data_table.ipynb>data table notebook</a>'\n",
              "            + ' to learn more about interactive tables.';\n",
              "          element.innerHTML = '';\n",
              "          dataTable['output_type'] = 'display_data';\n",
              "          await google.colab.output.renderOutput(dataTable, element);\n",
              "          const docLink = document.createElement('div');\n",
              "          docLink.innerHTML = docLinkHtml;\n",
              "          element.appendChild(docLink);\n",
              "        }\n",
              "      </script>\n",
              "    </div>\n",
              "  </div>\n",
              "  "
            ]
          },
          "metadata": {},
          "execution_count": 18
        }
      ]
    },
    {
      "cell_type": "markdown",
      "source": [
        "## Iterative Events"
      ],
      "metadata": {
        "id": "fLzPmk4kRjmd"
      }
    },
    {
      "cell_type": "code",
      "source": [
        "df_event0.drop(\"Unnamed: 0\", axis=1, inplace=True)\n",
        "\n",
        "users_0 = df_event0[\"user_hash\"].unique()\n",
        "counts_0 = df_event0[\"user_hash\"].value_counts()\n",
        "\n",
        "print(\"Event 0\")\n",
        "print(\"Fields that describes a tile placement: \",df_event0.columns)\n",
        "print(\"Number of tiles placed: \",df_event0.shape)\n",
        "print(\"Number of users that place at least 1 tile: \",len(users_0))\n",
        "\n",
        "dummy = pd.DataFrame(counts_0.ge(3))\n",
        "a = dummy.query('user_hash == True')\n",
        "user_with_ge_3_tile_0 = a.index.tolist()\n",
        "\n",
        "print(\"Number of users that placed more than 3 tiles: \",len(user_with_ge_3_tile_0))\n",
        "print(\"-----------------\")\n",
        "\n",
        "df_event1.drop(\"Unnamed: 0\", axis=1, inplace=True)\n",
        "\n",
        "users_1 = df_event1[\"user_hash\"].unique()\n",
        "counts_1 = df_event1[\"user_hash\"].value_counts()\n",
        "\n",
        "print(\"Event 1\")\n",
        "print(\"Fields that describes a tile placement: \",df_event1.columns)\n",
        "print(\"Number of tiles placed: \",df_event1.shape)\n",
        "print(\"Number of users that place at least 1 tile: \",len(users_1))\n",
        "\n",
        "dummy = pd.DataFrame(counts_1.ge(3))\n",
        "a = dummy.query('user_hash == True')\n",
        "user_with_ge_3_tile_1 = a.index.tolist()\n",
        "\n",
        "print(\"Number of users that placed more than 3 tiles: \",len(user_with_ge_3_tile_1))\n",
        "print(\"-----------------\")\n",
        "\n",
        "df_event2.drop(\"Unnamed: 0\", axis=1, inplace=True)\n",
        "\n",
        "users_2 = df_event2[\"user_hash\"].unique()\n",
        "counts_2 = df_event2[\"user_hash\"].value_counts()\n",
        "\n",
        "print(\"Event 2\")\n",
        "print(\"Fields that describes a tile placement: \",df_event2.columns)\n",
        "print(\"Number of tiles placed: \",df_event2.shape)\n",
        "print(\"Number of users that place at least 1 tile: \",len(users_2))\n",
        "\n",
        "dummy = pd.DataFrame(counts_2.ge(3))\n",
        "a = dummy.query('user_hash == True')\n",
        "user_with_ge_3_tile_2 = a.index.tolist()\n",
        "\n",
        "print(\"Number of users that placed more than 3 tiles: \",len(user_with_ge_3_tile_2))\n",
        "print(\"-----------------\")\n",
        "\n",
        "df_event3.drop(\"Unnamed: 0\", axis=1, inplace=True)\n",
        "\n",
        "users_3 = df_event3[\"user_hash\"].unique()\n",
        "counts_3 = df_event3[\"user_hash\"].value_counts()\n",
        "\n",
        "print(\"Event 3\")\n",
        "print(\"Fields that describes a tile placement: \",df_event3.columns)\n",
        "print(\"Number of tiles placed: \",df_event3.shape)\n",
        "print(\"Number of users that place at least 1 tile: \",len(users_3))\n",
        "\n",
        "dummy = pd.DataFrame(counts_3.ge(3))\n",
        "a = dummy.query('user_hash == True')\n",
        "user_with_ge_3_tile_3 = a.index.tolist()\n",
        "\n",
        "print(\"Number of users that placed more than 3 tiles: \",len(user_with_ge_3_tile_3))\n",
        "print(\"-----------------\")\n",
        "\n",
        "df_event4.drop(\"Unnamed: 0\", axis=1, inplace=True)\n",
        "\n",
        "users_4 = df_event4[\"user_hash\"].unique()\n",
        "counts_4 = df_event4[\"user_hash\"].value_counts()\n",
        "\n",
        "print(\"Event 4\")\n",
        "print(\"Fields that describes a tile placement: \",df_event4.columns)\n",
        "print(\"Number of tiles placed: \",df_event4.shape)\n",
        "print(\"Number of users that place at least 1 tile: \",len(users_4))\n",
        "\n",
        "dummy = pd.DataFrame(counts_4.ge(3))\n",
        "a = dummy.query('user_hash == True')\n",
        "user_with_ge_3_tile_4 = a.index.tolist()\n",
        "\n",
        "print(\"Number of users that placed more than 3 tiles: \",len(user_with_ge_3_tile_4))\n",
        "print(\"-----------------\")\n",
        "\n",
        "df_event5.drop(\"Unnamed: 0\", axis=1, inplace=True)\n",
        "\n",
        "users_5 = df_event5[\"user_hash\"].unique()\n",
        "counts_5 = df_event5[\"user_hash\"].value_counts()\n",
        "\n",
        "print(\"Event 4\")\n",
        "print(\"Fields that describes a tile placement: \",df_event5.columns)\n",
        "print(\"Number of tiles placed: \",df_event5.shape)\n",
        "print(\"Number of users that place at least 1 tile: \",len(users_5))\n",
        "\n",
        "dummy = pd.DataFrame(counts_5.ge(3))\n",
        "a = dummy.query('user_hash == True')\n",
        "user_with_ge_3_tile_5 = a.index.tolist()\n",
        "\n",
        "print(\"Number of users that placed more than 3 tiles: \",len(user_with_ge_3_tile_5))\n",
        "print(\"-----------------\")\n",
        "\n",
        "count_list = [counts_0,counts_1,counts_2,counts_3,counts_4,counts_5]"
      ],
      "metadata": {
        "colab": {
          "base_uri": "https://localhost:8080/"
        },
        "id": "1WomZOmvP__I",
        "outputId": "4f837163-b8aa-441d-81bb-09c40ce5351d"
      },
      "execution_count": 13,
      "outputs": [
        {
          "output_type": "stream",
          "name": "stdout",
          "text": [
            "Event 0\n",
            "Fields that describes a tile placement:  Index(['timestamp', 'user_hash', 'color', 'x_coordinate', 'y_coordinate'], dtype='object')\n",
            "Number of tiles placed:  (10728, 5)\n",
            "Number of users that place at least 1 tile:  9623\n",
            "Number of users that placed more than 3 tiles:  152\n",
            "-----------------\n",
            "Event 1\n",
            "Fields that describes a tile placement:  Index(['timestamp', 'user_hash', 'color', 'x_coordinate', 'y_coordinate'], dtype='object')\n",
            "Number of tiles placed:  (19366, 5)\n",
            "Number of users that place at least 1 tile:  17222\n",
            "Number of users that placed more than 3 tiles:  355\n",
            "-----------------\n",
            "Event 2\n",
            "Fields that describes a tile placement:  Index(['timestamp', 'user_hash', 'color', 'x_coordinate', 'y_coordinate'], dtype='object')\n",
            "Number of tiles placed:  (1730, 5)\n",
            "Number of users that place at least 1 tile:  1199\n",
            "Number of users that placed more than 3 tiles:  105\n",
            "-----------------\n",
            "Event 3\n",
            "Fields that describes a tile placement:  Index(['timestamp', 'user_hash', 'color', 'x_coordinate', 'y_coordinate'], dtype='object')\n",
            "Number of tiles placed:  (2588, 5)\n",
            "Number of users that place at least 1 tile:  1951\n",
            "Number of users that placed more than 3 tiles:  127\n",
            "-----------------\n",
            "Event 4\n",
            "Fields that describes a tile placement:  Index(['timestamp', 'user_hash', 'color', 'x_coordinate', 'y_coordinate'], dtype='object')\n",
            "Number of tiles placed:  (1336, 5)\n",
            "Number of users that place at least 1 tile:  1265\n",
            "Number of users that placed more than 3 tiles:  13\n",
            "-----------------\n",
            "Event 4\n",
            "Fields that describes a tile placement:  Index(['timestamp', 'user_hash', 'color', 'x_coordinate', 'y_coordinate'], dtype='object')\n",
            "Number of tiles placed:  (1088, 5)\n",
            "Number of users that place at least 1 tile:  901\n",
            "Number of users that placed more than 3 tiles:  43\n",
            "-----------------\n"
          ]
        }
      ]
    },
    {
      "cell_type": "code",
      "source": [
        "df_event0 = df_event0.query('user_hash in '+ str(user_with_ge_3_tile_0))\n",
        "\n",
        "df_event1 = df_event1.query('user_hash in '+ str(user_with_ge_3_tile_1))\n",
        "\n",
        "df_event2 = df_event2.query('user_hash in '+ str(user_with_ge_3_tile_2))\n",
        "\n",
        "df_event3 = df_event3.query('user_hash in '+ str(user_with_ge_3_tile_3))\n",
        "\n",
        "df_event4 = df_event4.query('user_hash in '+ str(user_with_ge_3_tile_4))\n",
        "\n",
        "df_event5 = df_event5.query('user_hash in '+ str(user_with_ge_3_tile_5))\n",
        "\n",
        "\n",
        "discrete_events = [df_event0,df_event1,df_event2,df_event3,df_event4,df_event5]"
      ],
      "metadata": {
        "id": "bpuLJqDdRxTC"
      },
      "execution_count": 14,
      "outputs": []
    },
    {
      "cell_type": "markdown",
      "source": [
        "## Concatenated - Color Match"
      ],
      "metadata": {
        "id": "0SqEXhUmBIIG"
      }
    },
    {
      "cell_type": "markdown",
      "source": [
        "### Weighted"
      ],
      "metadata": {
        "id": "7xaq7_nOCuoW"
      }
    },
    {
      "cell_type": "code",
      "source": [
        "graph = nx.Graph()"
      ],
      "metadata": {
        "id": "5N5WA5_v8QbN"
      },
      "execution_count": null,
      "outputs": []
    },
    {
      "cell_type": "code",
      "source": [
        "for index, tile in df.iterrows():\n",
        "  for i, t in df.iterrows():\n",
        "    if tile['user_hash'] != t['user_hash']:\n",
        "      if tile['color'] == t['color']:\n",
        "        weight = counts[tile['user_hash']] + counts[t['user_hash']]\n",
        "        graph.add_edge(tile['user_hash'], t['user_hash'], weight= weight)"
      ],
      "metadata": {
        "id": "Rqwn0uGi5kKf"
      },
      "execution_count": null,
      "outputs": []
    },
    {
      "cell_type": "code",
      "source": [
        "print(\"Number of nodes: \", graph.number_of_nodes())\n",
        "print(\"Number of edges: \", graph.number_of_edges())\n"
      ],
      "metadata": {
        "colab": {
          "base_uri": "https://localhost:8080/"
        },
        "id": "z4RTg8UOA-Kn",
        "outputId": "23733d6e-1923-495c-c49a-97242d4350a2"
      },
      "execution_count": null,
      "outputs": [
        {
          "output_type": "stream",
          "name": "stdout",
          "text": [
            "Number of nodes:  851\n",
            "Number of edges:  87094\n"
          ]
        }
      ]
    },
    {
      "cell_type": "code",
      "source": [
        "nx.write_gexf(graph, \"graph_color_w.gexf\")"
      ],
      "metadata": {
        "id": "9kW3wK3xDlUY"
      },
      "execution_count": null,
      "outputs": []
    },
    {
      "cell_type": "markdown",
      "source": [
        "### Unweighted"
      ],
      "metadata": {
        "id": "R5iTF0kHCyCT"
      }
    },
    {
      "cell_type": "code",
      "source": [
        "graph_unw = nx.Graph()\n",
        "for index, tile in df.iterrows():\n",
        "  for i, t in df.iterrows():\n",
        "    if tile['user_hash'] != t['user_hash']:\n",
        "      if tile['color'] == t['color']:\n",
        "        graph_unw.add_edge(tile['user_hash'], t['user_hash'])\n",
        "print(\"Number of nodes: \", graph_unw.number_of_nodes())\n",
        "print(\"Number of edges: \", graph_unw.number_of_edges())\n",
        "nx.write_gexf(graph_unw, \"graph_color_unw.gexf\")"
      ],
      "metadata": {
        "colab": {
          "base_uri": "https://localhost:8080/"
        },
        "id": "yy0ynX63B-vu",
        "outputId": "0b167cb8-d187-4356-aa28-fbecd3548e62"
      },
      "execution_count": null,
      "outputs": [
        {
          "output_type": "stream",
          "name": "stdout",
          "text": [
            "Number of nodes:  851\n",
            "Number of edges:  87094\n"
          ]
        }
      ]
    },
    {
      "cell_type": "markdown",
      "source": [
        "## Concatenated - No Color Match"
      ],
      "metadata": {
        "id": "SSw9S4txBHKI"
      }
    },
    {
      "cell_type": "markdown",
      "source": [
        "### Weighted"
      ],
      "metadata": {
        "id": "Brjc_UP3C8EZ"
      }
    },
    {
      "cell_type": "code",
      "source": [
        "graph_2 = nx.Graph()\n",
        "for index, tile in df.iterrows():\n",
        "  for i, t in df.iterrows():\n",
        "    if tile['user_hash'] != t['user_hash']:\n",
        "      weight = counts[tile['user_hash']] + counts[t['user_hash']]\n",
        "      graph_2.add_edge(tile['user_hash'], t['user_hash'], weight= weight)\n",
        "\n",
        "print(\"Number of nodes: \", graph_2.number_of_nodes())\n",
        "print(\"Number of edges: \", graph_2.number_of_edges())\n",
        "nx.write_gexf(graph_2, \"graph_2_nocolor_w.gexf\")"
      ],
      "metadata": {
        "colab": {
          "base_uri": "https://localhost:8080/"
        },
        "id": "j_M07bjm_kj5",
        "outputId": "c0283d57-acfb-4dbd-e27d-d2835cbdd5ca"
      },
      "execution_count": null,
      "outputs": [
        {
          "output_type": "stream",
          "name": "stdout",
          "text": [
            "Number of nodes:  851\n",
            "Number of edges:  361675\n"
          ]
        }
      ]
    },
    {
      "cell_type": "markdown",
      "source": [
        "### Unweighted"
      ],
      "metadata": {
        "id": "FM2QZYNHC9JZ"
      }
    },
    {
      "cell_type": "code",
      "source": [
        "graph_2_unw = nx.Graph()\n",
        "for index, tile in df.iterrows():\n",
        "  for i, t in df.iterrows():\n",
        "    if tile['user_hash'] != t['user_hash']:\n",
        "      graph_2_unw.add_edge(tile['user_hash'], t['user_hash'])\n",
        "\n",
        "print(\"Number of nodes: \", graph_2_unw.number_of_nodes())\n",
        "print(\"Number of edges: \", graph_2_unw.number_of_edges())\n",
        "nx.write_gexf(graph_2_unw, \"graph_2_nocolor_unw.gexf\")"
      ],
      "metadata": {
        "colab": {
          "base_uri": "https://localhost:8080/"
        },
        "id": "xWJq6FDiCGkR",
        "outputId": "2a05dba2-3771-4982-9532-ac67afbaf8b6"
      },
      "execution_count": null,
      "outputs": [
        {
          "output_type": "stream",
          "name": "stdout",
          "text": [
            "Number of nodes:  851\n",
            "Number of edges:  361675\n"
          ]
        }
      ]
    },
    {
      "cell_type": "markdown",
      "source": [
        "## Iterative - Color Match"
      ],
      "metadata": {
        "id": "EU-k-WUW_U-A"
      }
    },
    {
      "cell_type": "code",
      "source": [
        "len(count_list)"
      ],
      "metadata": {
        "colab": {
          "base_uri": "https://localhost:8080/"
        },
        "id": "LdxBU-LR88jP",
        "outputId": "200c2ab2-e06e-4d94-9abe-f0b57dd1a61f"
      },
      "execution_count": 21,
      "outputs": [
        {
          "output_type": "execute_result",
          "data": {
            "text/plain": [
              "6"
            ]
          },
          "metadata": {},
          "execution_count": 21
        }
      ]
    },
    {
      "cell_type": "markdown",
      "source": [
        "### Weighted"
      ],
      "metadata": {
        "id": "HXbhNVVjDDba"
      }
    },
    {
      "cell_type": "code",
      "source": [
        "graph_3 = nx.Graph()\n",
        "\n",
        "\n",
        "for i in range(len(discrete_events)):\n",
        "  count = count_list[i]\n",
        "  event = discrete_events[i]\n",
        "  for index, tile in event.iterrows():\n",
        "    for i, t in event.iterrows():\n",
        "      if tile['user_hash'] != t['user_hash']:\n",
        "        if tile['color'] == t['color']:\n",
        "          weight = count[tile['user_hash']] + count[t['user_hash']]\n",
        "          graph_3.add_edge(tile['user_hash'], t['user_hash'], weight= weight)\n",
        "\n",
        "\n",
        "\n",
        "print(\"Number of nodes: \", graph_3.number_of_nodes())\n",
        "print(\"Number of edges: \", graph_3.number_of_edges())\n",
        "nx.write_gexf(graph_3, \"graph_3_color_w.gexf\")"
      ],
      "metadata": {
        "colab": {
          "base_uri": "https://localhost:8080/"
        },
        "id": "EKNlm_vy_Vcg",
        "outputId": "153ded91-45e2-4bdf-81f6-7b532b31b0b3"
      },
      "execution_count": 26,
      "outputs": [
        {
          "output_type": "stream",
          "name": "stdout",
          "text": [
            "Number of nodes:  788\n",
            "Number of edges:  26271\n"
          ]
        }
      ]
    },
    {
      "cell_type": "markdown",
      "source": [
        "### Unweighted"
      ],
      "metadata": {
        "id": "sW3OEeXMDEh_"
      }
    },
    {
      "cell_type": "code",
      "source": [
        "graph_3_unw = nx.Graph()\n",
        "for event in discrete_events:\n",
        "  \n",
        "  for index, tile in event.iterrows():\n",
        "    for i, t in event.iterrows():\n",
        "      if tile['user_hash'] != t['user_hash']:\n",
        "        if tile['color'] == t['color']:\n",
        "          graph_3_unw.add_edge(tile['user_hash'], t['user_hash'])\n",
        "\n",
        "print(\"Number of nodes: \", graph_3_unw.number_of_nodes())\n",
        "print(\"Number of edges: \", graph_3_unw.number_of_edges())\n",
        "nx.write_gexf(graph_3_unw, \"graph_3_color_unw.gexf\")"
      ],
      "metadata": {
        "colab": {
          "base_uri": "https://localhost:8080/"
        },
        "id": "g48gH_VzCQXm",
        "outputId": "8a85ae67-b665-4919-98d4-b399f878a0d2"
      },
      "execution_count": 27,
      "outputs": [
        {
          "output_type": "stream",
          "name": "stdout",
          "text": [
            "Number of nodes:  788\n",
            "Number of edges:  26271\n"
          ]
        }
      ]
    },
    {
      "cell_type": "markdown",
      "source": [
        "## Iterative - No Color Match"
      ],
      "metadata": {
        "id": "vIBXE-XXDH1s"
      }
    },
    {
      "cell_type": "markdown",
      "source": [
        "### Weighted"
      ],
      "metadata": {
        "id": "6iz2ShbHDOQG"
      }
    },
    {
      "cell_type": "code",
      "source": [
        "graph_4 = nx.Graph()\n",
        "for i in range(len(discrete_events)):\n",
        "  count = count_list[i]\n",
        "  event = discrete_events[i]\n",
        "  for index, tile in event.iterrows():\n",
        "    for i, t in event.iterrows():\n",
        "      if tile['user_hash'] != t['user_hash']:\n",
        "          weight = count[tile['user_hash']] + count[t['user_hash']]\n",
        "          graph_4.add_edge(tile['user_hash'], t['user_hash'], weight= weight)\n",
        "\n",
        "print(\"Number of nodes: \", graph_4.number_of_nodes())\n",
        "print(\"Number of edges: \", graph_4.number_of_edges())\n",
        "nx.write_gexf(graph_4, \"graph_4_nocolor_w.gexf\")"
      ],
      "metadata": {
        "colab": {
          "base_uri": "https://localhost:8080/"
        },
        "id": "2kqz2Bb3DMSS",
        "outputId": "053d3e54-089e-4a75-9509-0491a6d49851"
      },
      "execution_count": null,
      "outputs": [
        {
          "output_type": "stream",
          "name": "stdout",
          "text": [
            "Number of nodes:  792\n",
            "Number of edges:  88752\n"
          ]
        }
      ]
    },
    {
      "cell_type": "markdown",
      "source": [
        "### Unweighted"
      ],
      "metadata": {
        "id": "xvaTg5EhDQWP"
      }
    },
    {
      "cell_type": "code",
      "source": [
        "graph_4_unw = nx.Graph()\n",
        "for event in discrete_events :\n",
        "  \n",
        "  for index, tile in event.iterrows():\n",
        "    for i, t in event.iterrows():\n",
        "      if tile['user_hash'] != t['user_hash']:\n",
        "        graph_4_unw.add_edge(tile['user_hash'], t['user_hash'])\n",
        "\n",
        "print(\"Number of nodes: \", graph_4_unw.number_of_nodes())\n",
        "print(\"Number of edges: \", graph_4_unw.number_of_edges())\n",
        "nx.write_gexf(graph_4_unw, \"graph_4_nocolor_unw.gexf\")"
      ],
      "metadata": {
        "id": "PQXFFr2TDMwz"
      },
      "execution_count": null,
      "outputs": []
    },
    {
      "cell_type": "markdown",
      "source": [
        "# Understanding the Graphs"
      ],
      "metadata": {
        "id": "o1S_MuXnXXUg"
      }
    },
    {
      "cell_type": "markdown",
      "source": [
        "## Concataneted"
      ],
      "metadata": {
        "id": "JWVU2_krX2g2"
      }
    },
    {
      "cell_type": "markdown",
      "source": [
        "### Color Match"
      ],
      "metadata": {
        "id": "Uzjb-pg7YDh8"
      }
    },
    {
      "cell_type": "markdown",
      "source": [
        "#### Weighted"
      ],
      "metadata": {
        "id": "BaHPGCX0aof2"
      }
    },
    {
      "cell_type": "code",
      "source": [
        "print(\"Density\")\n",
        "print(\"----------------------------------------\")\n",
        "density = nx.density(graph)\n",
        "print(density, \"\\n\\n\")\n",
        "\n",
        "print(\"Connected Component analysis\")\n",
        "print(\"----------------------------------------\")\n",
        "graph_connected = nx.is_connected(graph)\n",
        "print('Is digraph strongly connected?: ', graph_connected)\n",
        "\n",
        "num_connected_components = nx.number_connected_components(graph)\n",
        "print('Number of strongly connected components: ', num_connected_components)\n",
        "\n",
        "connected_components = nx.connected_components(graph)\n",
        "max_connected_component = max(connected_components, key=len)\n",
        "print('Largest connected component: ', len(max_connected_component))\n",
        "\n",
        "print('\\n')\n",
        "print(\"Radius\")\n",
        "print(\"----------------------------------------\")\n",
        "radius = nx.radius(graph)\n",
        "print(\"Radius:\", radius)\n",
        "\n",
        "print('\\n\\n')\n",
        "\n",
        "print(\"Graph Assortivity\")\n",
        "print(\"----------------------------------------\")\n",
        "assortivity = nx.degree_assortativity_coefficient(graph)\n",
        "print('Graph Assortivity: ', assortivity)\n",
        "\n",
        "print('\\n')\n",
        "print(\"Distance-Regular\")\n",
        "print(\"----------------------------------------\")\n",
        "dist_reg = nx.is_distance_regular(graph)\n",
        "print(\"Is distance-regular?: \", dist_reg)\n",
        "print(\"\\n\")\n",
        "\n",
        "clustering = nx.clustering(graph)\n",
        "nx.set_node_attributes(graph, clustering, \"clustering\")\n",
        "\n",
        "degree_centrality = nx.degree_centrality(graph)\n",
        "nx.set_node_attributes(graph, degree_centrality, \"degree_centrality\")\n",
        "\n",
        "strength = {k:v for k,v in graph.degree(weight='weight')}\n",
        "nx.set_node_attributes(graph, strength, \"nodes_strength\")"
      ],
      "metadata": {
        "colab": {
          "base_uri": "https://localhost:8080/"
        },
        "id": "HG0FHvl4XXAu",
        "outputId": "bf015b6a-9246-4ee1-c252-7fc726a33673"
      },
      "execution_count": null,
      "outputs": [
        {
          "output_type": "stream",
          "name": "stdout",
          "text": [
            "Density\n",
            "----------------------------------------\n",
            "0.24080735466924724 \n",
            "\n",
            "\n",
            "Connected Component analysis\n",
            "----------------------------------------\n",
            "Is digraph strongly connected?:  True\n",
            "Number of strongly connected components:  1\n",
            "Largest connected component:  851\n",
            "\n",
            "\n",
            "Radius\n",
            "----------------------------------------\n",
            "Radius: 2\n",
            "\n",
            "\n",
            "\n",
            "Graph Assortivity\n",
            "----------------------------------------\n",
            "Graph Assortivity:  0.13593058796788776\n",
            "\n",
            "\n",
            "Distance-Regular\n",
            "----------------------------------------\n",
            "Is distance-regular?:  False\n",
            "\n",
            "\n"
          ]
        }
      ]
    },
    {
      "cell_type": "code",
      "source": [
        "nx.write_gexf(graph, \"graph_1_color_w_analysis.gexf\")"
      ],
      "metadata": {
        "id": "2Y4j7EC7ZH9a"
      },
      "execution_count": null,
      "outputs": []
    },
    {
      "cell_type": "markdown",
      "source": [
        "#### Unweighted"
      ],
      "metadata": {
        "id": "rRS8Q-NPasgn"
      }
    },
    {
      "cell_type": "code",
      "source": [
        "print(\"Density\")\n",
        "print(\"----------------------------------------\")\n",
        "density = nx.density(graph_unw)\n",
        "print(density, \"\\n\\n\")\n",
        "\n",
        "print(\"Connected Component analysis\")\n",
        "print(\"----------------------------------------\")\n",
        "graph_connected = nx.is_connected(graph_unw)\n",
        "print('Is digraph strongly connected?: ', graph_connected)\n",
        "\n",
        "num_connected_components = nx.number_connected_components(graph_unw)\n",
        "print('Number of strongly connected components: ', num_connected_components)\n",
        "\n",
        "connected_components = nx.connected_components(graph_unw)\n",
        "max_connected_component = max(connected_components, key=len)\n",
        "print('Largest connected component: ', len(max_connected_component))\n",
        "\n",
        "print('\\n')\n",
        "print(\"Radius\")\n",
        "print(\"----------------------------------------\")\n",
        "radius = nx.radius(graph_unw)\n",
        "print(\"Radius:\", radius)\n",
        "\n",
        "print('\\n\\n')\n",
        "\n",
        "print(\"Graph Assortivity\")\n",
        "print(\"----------------------------------------\")\n",
        "assortivity = nx.degree_assortativity_coefficient(graph_unw)\n",
        "print('Graph Assortivity: ', assortivity)\n",
        "\n",
        "\n",
        "print('\\n')\n",
        "print(\"Distance-Regular\")\n",
        "print(\"----------------------------------------\")\n",
        "dist_reg = nx.is_distance_regular(graph_unw)\n",
        "print(\"Is distance-regular?: \", dist_reg)\n",
        "print(\"\\n\")\n",
        "\n",
        "clustering = nx.clustering(graph_unw)\n",
        "nx.set_node_attributes(graph_unw, clustering, \"clustering\")\n",
        "\n",
        "degree_centrality = nx.degree_centrality(graph_unw)\n",
        "nx.set_node_attributes(graph_unw, degree_centrality, \"degree_centrality\")\n",
        "\n",
        "strength = {k:v for k,v in graph_unw.degree(weight='weight')}\n",
        "nx.set_node_attributes(graph_unw, strength, \"nodes_strength\")"
      ],
      "metadata": {
        "colab": {
          "base_uri": "https://localhost:8080/"
        },
        "id": "ddgEC-SmaxMG",
        "outputId": "50995e16-8adc-4293-9972-26b4aa1e5463"
      },
      "execution_count": null,
      "outputs": [
        {
          "output_type": "stream",
          "name": "stdout",
          "text": [
            "Density\n",
            "----------------------------------------\n",
            "0.24080735466924724 \n",
            "\n",
            "\n",
            "Connected Component analysis\n",
            "----------------------------------------\n",
            "Is digraph strongly connected?:  True\n",
            "Number of strongly connected components:  1\n",
            "Largest connected component:  851\n",
            "\n",
            "\n",
            "Radius\n",
            "----------------------------------------\n",
            "Radius: 2\n",
            "\n",
            "\n",
            "\n",
            "Graph Assortivity\n",
            "----------------------------------------\n",
            "Graph Assortivity:  0.13593058796788776\n",
            "\n",
            "\n",
            "Distance-Regular\n",
            "----------------------------------------\n",
            "Is distance-regular?:  False\n",
            "\n",
            "\n"
          ]
        }
      ]
    },
    {
      "cell_type": "code",
      "source": [
        "nx.write_gexf(graph_unw, \"graph_1_color_unw_analysis.gexf\")"
      ],
      "metadata": {
        "id": "q6Em-G2Sds48"
      },
      "execution_count": null,
      "outputs": []
    },
    {
      "cell_type": "markdown",
      "source": [
        "### No Color Match"
      ],
      "metadata": {
        "id": "mWAsDffsYGQr"
      }
    },
    {
      "cell_type": "markdown",
      "source": [
        "#### Weighted"
      ],
      "metadata": {
        "id": "CISYMQVMbAoY"
      }
    },
    {
      "cell_type": "code",
      "source": [
        "print(\"Density\")\n",
        "print(\"----------------------------------------\")\n",
        "density = nx.density(graph_2)\n",
        "print(density, \"\\n\\n\")\n",
        "\n",
        "print(\"Connected Component analysis\")\n",
        "print(\"----------------------------------------\")\n",
        "graph_connected = nx.is_connected(graph_2)\n",
        "print('Is digraph strongly connected?: ', graph_connected)\n",
        "\n",
        "num_connected_components = nx.number_connected_components(graph_2)\n",
        "print('Number of strongly connected components: ', num_connected_components)\n",
        "\n",
        "connected_components = nx.connected_components(graph_2)\n",
        "max_connected_component = max(connected_components, key=len)\n",
        "print('Largest connected component: ', len(max_connected_component))\n",
        "\n",
        "print('\\n')\n",
        "print(\"Radius\")\n",
        "print(\"----------------------------------------\")\n",
        "radius = nx.radius(graph_2)\n",
        "print(\"Radius:\", radius)\n",
        "\n",
        "print('\\n\\n')"
      ],
      "metadata": {
        "colab": {
          "base_uri": "https://localhost:8080/"
        },
        "id": "AGGl4SwZYSo4",
        "outputId": "1787ca14-d329-4810-fd99-1307b018b023"
      },
      "execution_count": null,
      "outputs": [
        {
          "output_type": "stream",
          "name": "stdout",
          "text": [
            "Density\n",
            "----------------------------------------\n",
            "1.0 \n",
            "\n",
            "\n",
            "Connected Component analysis\n",
            "----------------------------------------\n",
            "Is digraph strongly connected?:  True\n",
            "Number of strongly connected components:  1\n",
            "Largest connected component:  851\n",
            "\n",
            "\n",
            "Radius\n",
            "----------------------------------------\n",
            "Radius: 1\n",
            "\n",
            "\n",
            "\n"
          ]
        }
      ]
    },
    {
      "cell_type": "code",
      "source": [
        "nx.write_gexf(graph_2, \"graph_2_nocolor_w_analysis.gexf\")"
      ],
      "metadata": {
        "id": "LZ69VzvpdxdY"
      },
      "execution_count": null,
      "outputs": []
    },
    {
      "cell_type": "markdown",
      "source": [
        "#### Unweighted"
      ],
      "metadata": {
        "id": "aDWVik6QbC2T"
      }
    },
    {
      "cell_type": "code",
      "source": [
        "print(\"Density\")\n",
        "print(\"----------------------------------------\")\n",
        "density = nx.density(graph_2_unw)\n",
        "print(density, \"\\n\\n\")\n",
        "\n",
        "print(\"Connected Component analysis\")\n",
        "print(\"----------------------------------------\")\n",
        "graph_connected = nx.is_connected(graph_2_unw)\n",
        "print('Is digraph strongly connected?: ', graph_connected)\n",
        "\n",
        "num_connected_components = nx.number_connected_components(graph_2_unw)\n",
        "print('Number of strongly connected components: ', num_connected_components)\n",
        "\n",
        "connected_components = nx.connected_components(graph_2_unw)\n",
        "max_connected_component = max(connected_components, key=len)\n",
        "print('Largest connected component: ', len(max_connected_component))\n",
        "\n",
        "print('\\n')\n",
        "print(\"Radius\")\n",
        "print(\"----------------------------------------\")\n",
        "radius = nx.radius(graph_2_unw)\n",
        "print(\"Radius:\", radius)\n",
        "\n",
        "print('\\n\\n')"
      ],
      "metadata": {
        "colab": {
          "base_uri": "https://localhost:8080/"
        },
        "id": "CpW2LFLVbPOg",
        "outputId": "916d404c-f52a-4365-8b07-bea39adf1442"
      },
      "execution_count": null,
      "outputs": [
        {
          "output_type": "stream",
          "name": "stdout",
          "text": [
            "Density\n",
            "----------------------------------------\n",
            "1.0 \n",
            "\n",
            "\n",
            "Connected Component analysis\n",
            "----------------------------------------\n",
            "Is digraph strongly connected?:  True\n",
            "Number of strongly connected components:  1\n",
            "Largest connected component:  851\n",
            "\n",
            "\n",
            "Radius\n",
            "----------------------------------------\n",
            "Radius: 1\n",
            "\n",
            "\n",
            "\n"
          ]
        }
      ]
    },
    {
      "cell_type": "code",
      "source": [
        "nx.write_gexf(graph_2_unw, \"graph_2_nocolor_unw_analysis.gexf\")"
      ],
      "metadata": {
        "id": "q5H2TEcAd5Dv"
      },
      "execution_count": null,
      "outputs": []
    },
    {
      "cell_type": "markdown",
      "source": [
        "## Iterative"
      ],
      "metadata": {
        "id": "-zREiQPOYKHT"
      }
    },
    {
      "cell_type": "markdown",
      "source": [
        "### Color Match"
      ],
      "metadata": {
        "id": "fnrzajxyYLy2"
      }
    },
    {
      "cell_type": "markdown",
      "source": [
        "#### Weighted"
      ],
      "metadata": {
        "id": "c9X0my01ba2Q"
      }
    },
    {
      "cell_type": "code",
      "source": [
        "print(\"Density\")\n",
        "print(\"----------------------------------------\")\n",
        "density = nx.density(graph_3)\n",
        "print(density, \"\\n\\n\")\n",
        "\n",
        "print(\"Connected Component analysis\")\n",
        "print(\"----------------------------------------\")\n",
        "graph_connected = nx.is_connected(graph_3)\n",
        "print('Is digraph strongly connected?: ', graph_connected)\n",
        "\n",
        "num_connected_components = nx.number_connected_components(graph_3)\n",
        "print('Number of strongly connected components: ', num_connected_components)\n",
        "\n",
        "connected_components = nx.connected_components(graph_3)\n",
        "max_connected_component = max(connected_components, key=len)\n",
        "print('Largest connected component: ', len(max_connected_component))\n",
        "\n",
        "print('\\n')\n",
        "print(\"Radius\")\n",
        "print(\"----------------------------------------\")\n",
        "print(\"Radius:\", \" Not connected\")\n",
        "\n",
        "print('\\n\\n')\n",
        "\n",
        "print(\"Graph Assortivity\")\n",
        "print(\"----------------------------------------\")\n",
        "assortivity = nx.degree_assortativity_coefficient(graph_3)\n",
        "print('Graph Assortivity: ', assortivity)\n",
        "\n",
        "\n",
        "print('\\n')\n",
        "print(\"Distance-Regular\")\n",
        "print(\"----------------------------------------\")\n",
        "dist_reg = nx.is_distance_regular(graph_3)\n",
        "print(\"Is distance-regular?: \", dist_reg)\n",
        "print(\"\\n\")\n",
        "\n",
        "clustering = nx.clustering(graph_3)\n",
        "nx.set_node_attributes(graph_3, clustering, \"clustering\")\n",
        "\n",
        "degree_centrality = nx.degree_centrality(graph_3)\n",
        "nx.set_node_attributes(graph_3, degree_centrality, \"degree_centrality\")\n",
        "\n",
        "strength = {k:v for k,v in graph_3.degree(weight='weight')}\n",
        "nx.set_node_attributes(graph_3, strength, \"nodes_strength\")"
      ],
      "metadata": {
        "colab": {
          "base_uri": "https://localhost:8080/"
        },
        "id": "CrJrQTE-YTmE",
        "outputId": "10043868-27d1-46b3-a013-3c84c8077668"
      },
      "execution_count": 29,
      "outputs": [
        {
          "output_type": "stream",
          "name": "stdout",
          "text": [
            "Density\n",
            "----------------------------------------\n",
            "0.0847238436780423 \n",
            "\n",
            "\n",
            "Connected Component analysis\n",
            "----------------------------------------\n",
            "Is digraph strongly connected?:  False\n",
            "Number of strongly connected components:  7\n",
            "Largest connected component:  502\n",
            "\n",
            "\n",
            "Radius\n",
            "----------------------------------------\n",
            "Radius:  Not connected\n",
            "\n",
            "\n",
            "\n",
            "Graph Assortivity\n",
            "----------------------------------------\n",
            "Graph Assortivity:  0.6391952081759477\n",
            "\n",
            "\n",
            "Distance-Regular\n",
            "----------------------------------------\n",
            "Is distance-regular?:  False\n",
            "\n",
            "\n"
          ]
        }
      ]
    },
    {
      "cell_type": "code",
      "source": [
        "nx.write_gexf(graph_3, \"graph_3_color_w_analysis.gexf\")"
      ],
      "metadata": {
        "id": "BhBnCkBaeD4A"
      },
      "execution_count": 30,
      "outputs": []
    },
    {
      "cell_type": "markdown",
      "source": [
        "#### Unweighted"
      ],
      "metadata": {
        "id": "fCyJkI9SbdU2"
      }
    },
    {
      "cell_type": "code",
      "source": [
        "print(\"Density\")\n",
        "print(\"----------------------------------------\")\n",
        "density = nx.density(graph_3_unw)\n",
        "print(density, \"\\n\\n\")\n",
        "\n",
        "print(\"Connected Component analysis\")\n",
        "print(\"----------------------------------------\")\n",
        "graph_connected = nx.is_connected(graph_3_unw)\n",
        "print('Is digraph strongly connected?: ', graph_connected)\n",
        "\n",
        "num_connected_components = nx.number_connected_components(graph_3_unw)\n",
        "print('Number of strongly connected components: ', num_connected_components)\n",
        "\n",
        "connected_components = nx.connected_components(graph_3_unw)\n",
        "max_connected_component = max(connected_components, key=len)\n",
        "print('Largest connected component: ', len(max_connected_component))\n",
        "\n",
        "print('\\n')\n",
        "print(\"Radius\")\n",
        "print(\"----------------------------------------\")\n",
        "#radius = nx.radius(graph_3_unw)\n",
        "print(\"Radius:\", \" Not connected\")\n",
        "\n",
        "print('\\n\\n')\n",
        "\n",
        "print(\"Graph Assortivity\")\n",
        "print(\"----------------------------------------\")\n",
        "assortivity = nx.degree_assortativity_coefficient(graph_3_unw)\n",
        "print('Graph Assortivity: ', assortivity)\n",
        "\n",
        "\n",
        "print('\\n')\n",
        "print(\"Distance-Regular\")\n",
        "print(\"----------------------------------------\")\n",
        "dist_reg = nx.is_distance_regular(graph_3_unw)\n",
        "print(\"Is distance-regular?: \", dist_reg)\n",
        "print(\"\\n\")\n",
        "\n",
        "\n",
        "clustering = nx.clustering(graph_3_unw)\n",
        "nx.set_node_attributes(graph_3_unw, clustering, \"clustering\")\n",
        "\n",
        "degree_centrality = nx.degree_centrality(graph_3_unw)\n",
        "nx.set_node_attributes(graph_3_unw, degree_centrality, \"degree_centrality\")\n",
        "\n",
        "strength = {k:v for k,v in graph_3_unw.degree(weight='weight')}\n",
        "nx.set_node_attributes(graph_3_unw, strength, \"nodes_strength\")"
      ],
      "metadata": {
        "colab": {
          "base_uri": "https://localhost:8080/"
        },
        "id": "z4ehd3-sbtjE",
        "outputId": "930a71a6-02ea-49b5-95eb-0e63dd9f1423"
      },
      "execution_count": 31,
      "outputs": [
        {
          "output_type": "stream",
          "name": "stdout",
          "text": [
            "Density\n",
            "----------------------------------------\n",
            "0.0847238436780423 \n",
            "\n",
            "\n",
            "Connected Component analysis\n",
            "----------------------------------------\n",
            "Is digraph strongly connected?:  False\n",
            "Number of strongly connected components:  7\n",
            "Largest connected component:  502\n",
            "\n",
            "\n",
            "Radius\n",
            "----------------------------------------\n",
            "Radius:  Not connected\n",
            "\n",
            "\n",
            "\n",
            "Graph Assortivity\n",
            "----------------------------------------\n",
            "Graph Assortivity:  0.6391952081759477\n",
            "\n",
            "\n",
            "Distance-Regular\n",
            "----------------------------------------\n",
            "Is distance-regular?:  False\n",
            "\n",
            "\n"
          ]
        }
      ]
    },
    {
      "cell_type": "code",
      "source": [
        "nx.write_gexf(graph_3_unw, \"graph_3_color_unw_analysis.gexf\")"
      ],
      "metadata": {
        "id": "DxC7YIAgeFwk"
      },
      "execution_count": 32,
      "outputs": []
    },
    {
      "cell_type": "markdown",
      "source": [
        "### No Color Match"
      ],
      "metadata": {
        "id": "OJ_aeaiwYNyt"
      }
    },
    {
      "cell_type": "markdown",
      "source": [
        "#### Weighted"
      ],
      "metadata": {
        "id": "2nBkT-DBbfeV"
      }
    },
    {
      "cell_type": "code",
      "source": [
        "print(\"Density\")\n",
        "print(\"----------------------------------------\")\n",
        "density = nx.density(graph_4)\n",
        "print(density, \"\\n\\n\")\n",
        "\n",
        "print(\"Connected Component analysis\")\n",
        "print(\"----------------------------------------\")\n",
        "graph_connected = nx.is_connected(graph_4)\n",
        "print('Is digraph strongly connected?: ', graph_connected)\n",
        "\n",
        "num_connected_components = nx.number_connected_components(graph_4)\n",
        "print('Number of strongly connected components: ', num_connected_components)\n",
        "\n",
        "connected_components = nx.connected_components(graph_4)\n",
        "max_connected_component = max(connected_components, key=len)\n",
        "print('Largest connected component: ', len(max_connected_component))\n",
        "\n",
        "print('\\n')\n",
        "print(\"Radius\")\n",
        "print(\"----------------------------------------\")\n",
        "#radius = nx.radius(graph_4)\n",
        "print(\"Radius:\", \" Not connected\")\n",
        "\n",
        "print('\\n\\n')\n",
        "\n",
        "print(\"Graph Assortivity\")\n",
        "print(\"----------------------------------------\")\n",
        "assortivity = nx.degree_assortativity_coefficient(graph_4)\n",
        "print('Graph Assortivity: ', assortivity)\n",
        "\n",
        "\n",
        "print('\\n')\n",
        "print(\"Distance-Regular\")\n",
        "print(\"----------------------------------------\")\n",
        "dist_reg = nx.is_distance_regular(graph_4)\n",
        "print(\"Is distance-regular?: \", dist_reg)\n",
        "print(\"\\n\")\n",
        "\n",
        "clustering = nx.clustering(graph_4)\n",
        "nx.set_node_attributes(graph_4, clustering, \"clustering\")\n",
        "\n",
        "degree_centrality = nx.degree_centrality(graph_4)\n",
        "nx.set_node_attributes(graph_4, degree_centrality, \"degree_centrality\")\n",
        "\n",
        "strength = {k:v for k,v in graph_4.degree(weight='weight')}\n",
        "nx.set_node_attributes(graph_4, strength, \"nodes_strength\")"
      ],
      "metadata": {
        "colab": {
          "base_uri": "https://localhost:8080/"
        },
        "id": "adt52fUIYUIe",
        "outputId": "1294b084-9480-47a5-fd6a-4fa12fa466dc"
      },
      "execution_count": null,
      "outputs": [
        {
          "output_type": "stream",
          "name": "stdout",
          "text": [
            "Density\n",
            "----------------------------------------\n",
            "0.28333907979925677 \n",
            "\n",
            "\n",
            "Connected Component analysis\n",
            "----------------------------------------\n",
            "Is digraph strongly connected?:  False\n",
            "Number of strongly connected components:  4\n",
            "Largest connected component:  517\n",
            "\n",
            "\n",
            "Radius\n",
            "----------------------------------------\n",
            "Radius:  Not connected\n",
            "\n",
            "\n",
            "\n",
            "Graph Assortivity\n",
            "----------------------------------------\n",
            "Graph Assortivity:  0.9721937723398665\n",
            "\n",
            "\n",
            "Distance-Regular\n",
            "----------------------------------------\n",
            "Is distance-regular?:  False\n",
            "\n",
            "\n"
          ]
        }
      ]
    },
    {
      "cell_type": "code",
      "source": [
        "nx.write_gexf(graph_4, \"graph_4_nocolor_w_analysis.gexf\")"
      ],
      "metadata": {
        "id": "dQ1R_XHOeObB"
      },
      "execution_count": null,
      "outputs": []
    },
    {
      "cell_type": "markdown",
      "source": [
        "#### Unweighted"
      ],
      "metadata": {
        "id": "6dMayHaNbhEu"
      }
    },
    {
      "cell_type": "code",
      "source": [
        "print(\"Density\")\n",
        "print(\"----------------------------------------\")\n",
        "density = nx.density(graph_4_unw)\n",
        "print(density, \"\\n\\n\")\n",
        "\n",
        "print(\"Connected Component analysis\")\n",
        "print(\"----------------------------------------\")\n",
        "graph_connected = nx.is_connected(graph_4_unw)\n",
        "print('Is digraph strongly connected?: ', graph_connected)\n",
        "\n",
        "num_connected_components = nx.number_connected_components(graph_4_unw)\n",
        "print('Number of strongly connected components: ', num_connected_components)\n",
        "\n",
        "connected_components = nx.connected_components(graph_4_unw)\n",
        "max_connected_component = max(connected_components, key=len)\n",
        "print('Largest connected component: ', len(max_connected_component))\n",
        "\n",
        "print('\\n')\n",
        "print(\"Radius\")\n",
        "print(\"----------------------------------------\")\n",
        "#radius = nx.radius(graph_4_unw)\n",
        "print(\"Radius:\", \" Not connected\")\n",
        "\n",
        "print('\\n\\n')\n",
        "\n",
        "print(\"Graph Assortivity\")\n",
        "print(\"----------------------------------------\")\n",
        "assortivity = nx.degree_assortativity_coefficient(graph_4_unw)\n",
        "print('Graph Assortivity: ', assortivity)\n",
        "\n",
        "\n",
        "print('\\n')\n",
        "print(\"Distance-Regular\")\n",
        "print(\"----------------------------------------\")\n",
        "dist_reg = nx.is_distance_regular(graph_4_unw)\n",
        "print(\"Is distance-regular?: \", dist_reg)\n",
        "print(\"\\n\")\n",
        "\n",
        "clustering = nx.clustering(graph_4_unw)\n",
        "nx.set_node_attributes(graph_4_unw, clustering, \"clustering\")\n",
        "\n",
        "degree_centrality = nx.degree_centrality(graph_4_unw)\n",
        "nx.set_node_attributes(graph_4_unw, degree_centrality, \"degree_centrality\")\n",
        "\n",
        "strength = {k:v for k,v in graph_4_unw.degree(weight='weight')}\n",
        "nx.set_node_attributes(graph_4_unw, strength, \"nodes_strength\")"
      ],
      "metadata": {
        "colab": {
          "base_uri": "https://localhost:8080/"
        },
        "id": "DKyuUnH3b8hf",
        "outputId": "2c0facb4-6ecc-418e-c94f-e464d442e810"
      },
      "execution_count": null,
      "outputs": [
        {
          "output_type": "stream",
          "name": "stdout",
          "text": [
            "Density\n",
            "----------------------------------------\n",
            "0.28333907979925677 \n",
            "\n",
            "\n",
            "Connected Component analysis\n",
            "----------------------------------------\n",
            "Is digraph strongly connected?:  False\n",
            "Number of strongly connected components:  4\n",
            "Largest connected component:  517\n",
            "\n",
            "\n",
            "Radius\n",
            "----------------------------------------\n",
            "Radius:  Not connected\n",
            "\n",
            "\n",
            "\n",
            "Graph Assortivity\n",
            "----------------------------------------\n",
            "Graph Assortivity:  0.9721937723398665\n",
            "\n",
            "\n",
            "Distance-Regular\n",
            "----------------------------------------\n",
            "Is distance-regular?:  False\n",
            "\n",
            "\n"
          ]
        }
      ]
    },
    {
      "cell_type": "code",
      "source": [
        "nx.write_gexf(graph_4_unw, \"graph_4_nocolor_unw_analysis.gexf\")"
      ],
      "metadata": {
        "id": "hOAlsd8EeMXg"
      },
      "execution_count": null,
      "outputs": []
    },
    {
      "cell_type": "markdown",
      "source": [
        "# Community Detection"
      ],
      "metadata": {
        "id": "KW1g4QRtkCPk"
      }
    },
    {
      "cell_type": "code",
      "source": [
        "!pip uninstall community\n",
        "!pip install python-louvain"
      ],
      "metadata": {
        "colab": {
          "base_uri": "https://localhost:8080/"
        },
        "id": "wyZlZudDtJTu",
        "outputId": "1a0f7989-4924-4b5e-c7bb-e78e96eb6ff5"
      },
      "execution_count": null,
      "outputs": [
        {
          "output_type": "stream",
          "name": "stdout",
          "text": [
            "\u001b[33mWARNING: Skipping community as it is not installed.\u001b[0m\n",
            "Looking in indexes: https://pypi.org/simple, https://us-python.pkg.dev/colab-wheels/public/simple/\n",
            "Requirement already satisfied: python-louvain in /usr/local/lib/python3.7/dist-packages (0.16)\n",
            "Requirement already satisfied: numpy in /usr/local/lib/python3.7/dist-packages (from python-louvain) (1.21.6)\n",
            "Requirement already satisfied: networkx in /usr/local/lib/python3.7/dist-packages (from python-louvain) (2.6.3)\n"
          ]
        }
      ]
    },
    {
      "cell_type": "code",
      "source": [
        "from networkx.algorithms import community\n",
        "from networkx.algorithms.community import greedy_modularity_communities\n",
        "from community import community_louvain"
      ],
      "metadata": {
        "id": "ZSiyl1pjnVpM"
      },
      "execution_count": 33,
      "outputs": []
    },
    {
      "cell_type": "markdown",
      "source": [
        "## Modularity-based Communities"
      ],
      "metadata": {
        "id": "XXajXGP_kFlo"
      }
    },
    {
      "cell_type": "markdown",
      "source": [
        "Will be handled in Gephi"
      ],
      "metadata": {
        "id": "J92gMnKO1CYH"
      }
    },
    {
      "cell_type": "markdown",
      "source": [
        "## Louvain Communities"
      ],
      "metadata": {
        "id": "XDOPW-vOkYu5"
      }
    },
    {
      "cell_type": "markdown",
      "source": [
        "### Iterative - No Color Match - Weighted"
      ],
      "metadata": {
        "id": "uStUiFJ41Gw2"
      }
    },
    {
      "cell_type": "code",
      "source": [
        "c2 = community_louvain.best_partition(graph_4)"
      ],
      "metadata": {
        "id": "ke265qykkclf"
      },
      "execution_count": null,
      "outputs": []
    },
    {
      "cell_type": "code",
      "source": [
        "for node in c2:\n",
        "  ((graph_4.nodes)[node])[\"louvain_community\"] = c2[node]"
      ],
      "metadata": {
        "id": "zBlVy9_c0cE0"
      },
      "execution_count": null,
      "outputs": []
    },
    {
      "cell_type": "code",
      "source": [
        "nx.write_gexf(graph_4, \"graph_4_w_full.gexf\")"
      ],
      "metadata": {
        "id": "00RD5o5Lnlvq"
      },
      "execution_count": null,
      "outputs": []
    },
    {
      "cell_type": "markdown",
      "source": [
        "### Iterative - No Color Match - Unweighted"
      ],
      "metadata": {
        "id": "oe3cDMuf1WqG"
      }
    },
    {
      "cell_type": "code",
      "source": [
        "c2 = community_louvain.best_partition(graph_4_unw)"
      ],
      "metadata": {
        "id": "DqaS8bwk1WqH"
      },
      "execution_count": 51,
      "outputs": []
    },
    {
      "cell_type": "code",
      "source": [
        "for node in c2:\n",
        "  ((graph_4_unw.nodes)[node])[\"louvain_community\"] = c2[node]"
      ],
      "metadata": {
        "id": "ohf-8vdN1WqI"
      },
      "execution_count": 52,
      "outputs": []
    },
    {
      "cell_type": "code",
      "source": [
        "nx.write_gexf(graph_4_unw, \"graph_4_unw_full.gexf\")"
      ],
      "metadata": {
        "id": "1GkRCOJ61WqI"
      },
      "execution_count": 53,
      "outputs": []
    },
    {
      "cell_type": "markdown",
      "source": [
        "### Iterative - Color Match - Weighted"
      ],
      "metadata": {
        "id": "hWnnjT5q1Xam"
      }
    },
    {
      "cell_type": "code",
      "source": [
        "c2 = community_louvain.best_partition(graph_3)"
      ],
      "metadata": {
        "id": "OwSn019T1Xam"
      },
      "execution_count": 48,
      "outputs": []
    },
    {
      "cell_type": "code",
      "source": [
        "for node in c2:\n",
        "  ((graph_3.nodes)[node])[\"louvain_community\"] = c2[node]"
      ],
      "metadata": {
        "id": "507FNwv41Xan"
      },
      "execution_count": 49,
      "outputs": []
    },
    {
      "cell_type": "code",
      "source": [
        "nx.write_gexf(graph_3, \"graph_3_w_full.gexf\")"
      ],
      "metadata": {
        "id": "mtCH8Mu31Xan"
      },
      "execution_count": 50,
      "outputs": []
    },
    {
      "cell_type": "markdown",
      "source": [
        "### Iterative - Color Match - Unweighted"
      ],
      "metadata": {
        "id": "4Ai4THXO1X-5"
      }
    },
    {
      "cell_type": "code",
      "source": [
        "c2 = community_louvain.best_partition(graph_3_unw)"
      ],
      "metadata": {
        "id": "ioZt1uh81X-6"
      },
      "execution_count": 35,
      "outputs": []
    },
    {
      "cell_type": "code",
      "source": [
        "for node in c2:\n",
        "  ((graph_3_unw.nodes)[node])[\"louvain_community\"] = c2[node]"
      ],
      "metadata": {
        "id": "tBqLvRBL1X-6"
      },
      "execution_count": 46,
      "outputs": []
    },
    {
      "cell_type": "code",
      "source": [
        "nx.write_gexf(graph_3_unw, \"graph_3_unw_full.gexf\")"
      ],
      "metadata": {
        "id": "onkeGxOn1X-7"
      },
      "execution_count": 47,
      "outputs": []
    },
    {
      "cell_type": "markdown",
      "source": [
        "### Concat - Color Match - Weighted"
      ],
      "metadata": {
        "id": "_2ABW1nX1ZUT"
      }
    },
    {
      "cell_type": "code",
      "source": [
        "c2 = community_louvain.best_partition(graph)"
      ],
      "metadata": {
        "id": "51fKPAbM1ZUU"
      },
      "execution_count": null,
      "outputs": []
    },
    {
      "cell_type": "code",
      "source": [
        "for node in c2:\n",
        "  (graph.nodes.get(node))[\"louvain_community\"] = c2[node]"
      ],
      "metadata": {
        "id": "hPP3kP3P1ZUU"
      },
      "execution_count": null,
      "outputs": []
    },
    {
      "cell_type": "code",
      "source": [
        "nx.write_gexf(graph, \"graph_1_w_full.gexf\")"
      ],
      "metadata": {
        "id": "9HErR7gb1ZUV"
      },
      "execution_count": null,
      "outputs": []
    },
    {
      "cell_type": "markdown",
      "source": [
        "### Concat - Color Match - Unweighted"
      ],
      "metadata": {
        "id": "0RMEqKbF1liI"
      }
    },
    {
      "cell_type": "code",
      "source": [
        "c2 = community_louvain.best_partition(graph_unw)"
      ],
      "metadata": {
        "id": "uaDQfm0F1liI"
      },
      "execution_count": null,
      "outputs": []
    },
    {
      "cell_type": "code",
      "source": [
        "for node in c2:\n",
        "  (graph_unw.nodes.get(node))[\"louvain_community\"] = c2[node]"
      ],
      "metadata": {
        "id": "pI86R1DE1liI"
      },
      "execution_count": null,
      "outputs": []
    },
    {
      "cell_type": "code",
      "source": [
        "nx.write_gexf(graph_unw, \"graph_1_unw_full.gexf\")"
      ],
      "metadata": {
        "id": "49XgbY_71liI"
      },
      "execution_count": null,
      "outputs": []
    },
    {
      "cell_type": "markdown",
      "source": [
        "### Concat - No Color Match - Weighted"
      ],
      "metadata": {
        "id": "_GauwSon1md3"
      }
    },
    {
      "cell_type": "code",
      "source": [
        "c2 = community_louvain.best_partition(graph_2)"
      ],
      "metadata": {
        "id": "W6qpIkdS1md4"
      },
      "execution_count": null,
      "outputs": []
    },
    {
      "cell_type": "code",
      "source": [
        "for node in c2:\n",
        "  (graph_2.nodes.get(node))[\"louvain_community\"] = c2[node]"
      ],
      "metadata": {
        "id": "aeV19SYd1md4"
      },
      "execution_count": null,
      "outputs": []
    },
    {
      "cell_type": "code",
      "source": [
        "nx.write_gexf(graph_2, \"graph_2_w_full.gexf\")"
      ],
      "metadata": {
        "id": "H8KhSK_h1md4"
      },
      "execution_count": null,
      "outputs": []
    },
    {
      "cell_type": "markdown",
      "source": [
        "### Concat - No Color Match - Unweighted"
      ],
      "metadata": {
        "id": "V_dwtFIT1qiq"
      }
    },
    {
      "cell_type": "code",
      "source": [
        "c2 = community_louvain.best_partition(graph_2_unw)"
      ],
      "metadata": {
        "id": "EdjwJqdM1qiq"
      },
      "execution_count": null,
      "outputs": []
    },
    {
      "cell_type": "code",
      "source": [
        "for node in c2:\n",
        "  (graph_2_unw.nodes.get(node))[\"louvain_community\"] = c2[node]"
      ],
      "metadata": {
        "id": "zPxWYwZb1qiq"
      },
      "execution_count": null,
      "outputs": []
    },
    {
      "cell_type": "code",
      "source": [
        "nx.write_gexf(graph_2_unw, \"graph_2_unw_full.gexf\")"
      ],
      "metadata": {
        "id": "7OVi9exn1qiq"
      },
      "execution_count": null,
      "outputs": []
    },
    {
      "cell_type": "markdown",
      "source": [
        "## Louvain w/ Large Community favor"
      ],
      "metadata": {
        "id": "elvvxksR6lYc"
      }
    },
    {
      "cell_type": "markdown",
      "source": [
        "### Iterative - No Color Match - Weighted"
      ],
      "metadata": {
        "id": "XfWtwEup6xB6"
      }
    },
    {
      "cell_type": "code",
      "source": [
        "c3 = community_louvain.best_partition(graph_3, resolution= 0.8)"
      ],
      "metadata": {
        "id": "b8Vc2e2t6xB6"
      },
      "execution_count": null,
      "outputs": []
    },
    {
      "cell_type": "code",
      "source": [
        "c3"
      ],
      "metadata": {
        "colab": {
          "base_uri": "https://localhost:8080/"
        },
        "id": "9MOeJ2NQ7O7i",
        "outputId": "ef2f6d29-1c62-4919-b2b9-a1e87f53c3ca"
      },
      "execution_count": null,
      "outputs": [
        {
          "output_type": "execute_result",
          "data": {
            "text/plain": [
              "{7947: 6,\n",
              " 13853: 2,\n",
              " 21242: 8,\n",
              " 22255: 8,\n",
              " 23104: 6,\n",
              " 32582: 8,\n",
              " 33709: 2,\n",
              " 46665: 2,\n",
              " 57469: 1,\n",
              " 78883: 0,\n",
              " 84298: 0,\n",
              " 87320: 8,\n",
              " 87920: 2,\n",
              " 95495: 9,\n",
              " 98914: 9,\n",
              " 102531: 5,\n",
              " 121923: 2,\n",
              " 122052: 0,\n",
              " 127759: 1,\n",
              " 164678: 1,\n",
              " 175504: 2,\n",
              " 191977: 3,\n",
              " 204359: 0,\n",
              " 210551: 0,\n",
              " 217148: 5,\n",
              " 232436: 6,\n",
              " 248953: 1,\n",
              " 268237: 1,\n",
              " 277274: 6,\n",
              " 292548: 0,\n",
              " 294355: 1,\n",
              " 320197: 9,\n",
              " 327157: 0,\n",
              " 336916: 0,\n",
              " 337053: 0,\n",
              " 337364: 6,\n",
              " 347239: 6,\n",
              " 365525: 2,\n",
              " 381626: 5,\n",
              " 401292: 9,\n",
              " 424680: 2,\n",
              " 442503: 2,\n",
              " 444753: 9,\n",
              " 450387: 9,\n",
              " 492519: 0,\n",
              " 494939: 2,\n",
              " 504459: 9,\n",
              " 521293: 6,\n",
              " 526130: 0,\n",
              " 543586: 6,\n",
              " 554992: 8,\n",
              " 557739: 5,\n",
              " 561096: 1,\n",
              " 564555: 1,\n",
              " 611327: 0,\n",
              " 628204: 0,\n",
              " 638048: 9,\n",
              " 641678: 0,\n",
              " 649752: 1,\n",
              " 683722: 5,\n",
              " 694465: 6,\n",
              " 695544: 6,\n",
              " 702003: 9,\n",
              " 711965: 6,\n",
              " 716143: 1,\n",
              " 728394: 0,\n",
              " 743630: 5,\n",
              " 751540: 6,\n",
              " 761058: 9,\n",
              " 775862: 0,\n",
              " 786591: 5,\n",
              " 814489: 8,\n",
              " 820548: 0,\n",
              " 827075: 1,\n",
              " 828914: 9,\n",
              " 867643: 9,\n",
              " 870454: 6,\n",
              " 892680: 9,\n",
              " 967524: 9,\n",
              " 990955: 1,\n",
              " 994627: 2,\n",
              " 1007468: 5,\n",
              " 1016914: 1,\n",
              " 1018571: 9,\n",
              " 1033112: 2,\n",
              " 1035579: 0,\n",
              " 1048519: 0,\n",
              " 1084363: 1,\n",
              " 1093509: 0,\n",
              " 1098174: 0,\n",
              " 1105820: 9,\n",
              " 1113563: 2,\n",
              " 1119860: 0,\n",
              " 1127753: 6,\n",
              " 1195386: 9,\n",
              " 1262570: 9,\n",
              " 1264431: 2,\n",
              " 1270334: 6,\n",
              " 1320228: 2,\n",
              " 1321792: 0,\n",
              " 1338661: 2,\n",
              " 1340386: 6,\n",
              " 1361506: 0,\n",
              " 1385095: 2,\n",
              " 1386750: 0,\n",
              " 1410376: 1,\n",
              " 1422439: 8,\n",
              " 1428153: 2,\n",
              " 1452759: 9,\n",
              " 1483538: 5,\n",
              " 1495705: 2,\n",
              " 1514094: 9,\n",
              " 1516105: 2,\n",
              " 1526788: 1,\n",
              " 1533294: 0,\n",
              " 1539019: 5,\n",
              " 1541257: 6,\n",
              " 1587759: 5,\n",
              " 1627479: 6,\n",
              " 1647935: 2,\n",
              " 1654487: 9,\n",
              " 1670909: 8,\n",
              " 1727971: 4,\n",
              " 1741258: 5,\n",
              " 1767708: 9,\n",
              " 1799989: 6,\n",
              " 1807437: 2,\n",
              " 1809531: 2,\n",
              " 1809760: 8,\n",
              " 1836367: 0,\n",
              " 1841735: 5,\n",
              " 1847917: 1,\n",
              " 1874538: 9,\n",
              " 1898518: 9,\n",
              " 1919439: 5,\n",
              " 1919618: 6,\n",
              " 1923470: 1,\n",
              " 1932552: 6,\n",
              " 1934172: 0,\n",
              " 1938307: 6,\n",
              " 1968287: 0,\n",
              " 1976406: 2,\n",
              " 1981205: 3,\n",
              " 2006743: 2,\n",
              " 2012943: 6,\n",
              " 2017976: 2,\n",
              " 2018778: 0,\n",
              " 2047261: 2,\n",
              " 2056720: 5,\n",
              " 2072316: 6,\n",
              " 2079873: 6,\n",
              " 2094950: 9,\n",
              " 2103524: 8,\n",
              " 2117143: 9,\n",
              " 2120794: 5,\n",
              " 2125131: 6,\n",
              " 2138120: 0,\n",
              " 2150023: 6,\n",
              " 2150515: 5,\n",
              " 2196416: 9,\n",
              " 2201420: 6,\n",
              " 2202324: 1,\n",
              " 2213284: 0,\n",
              " 2215236: 1,\n",
              " 2241499: 5,\n",
              " 2257467: 7,\n",
              " 2262981: 1,\n",
              " 2266264: 2,\n",
              " 2272039: 1,\n",
              " 2293450: 6,\n",
              " 2302839: 2,\n",
              " 2306357: 2,\n",
              " 2309561: 2,\n",
              " 2317337: 6,\n",
              " 2323557: 6,\n",
              " 2329478: 2,\n",
              " 2331830: 7,\n",
              " 2366633: 9,\n",
              " 2368743: 0,\n",
              " 2370514: 5,\n",
              " 2373375: 6,\n",
              " 2379361: 0,\n",
              " 2398511: 6,\n",
              " 2404807: 5,\n",
              " 2472047: 1,\n",
              " 2492158: 1,\n",
              " 2552866: 1,\n",
              " 2553403: 2,\n",
              " 2565518: 3,\n",
              " 2570115: 0,\n",
              " 2582013: 9,\n",
              " 2590693: 2,\n",
              " 2611870: 5,\n",
              " 2612956: 6,\n",
              " 2622296: 9,\n",
              " 2648838: 0,\n",
              " 2651044: 5,\n",
              " 2693466: 5,\n",
              " 2697507: 2,\n",
              " 2699361: 2,\n",
              " 2717800: 5,\n",
              " 2718637: 2,\n",
              " 2720210: 2,\n",
              " 2730005: 9,\n",
              " 2738643: 8,\n",
              " 2762927: 0,\n",
              " 2765044: 2,\n",
              " 2777572: 6,\n",
              " 2779314: 9,\n",
              " 2840763: 0,\n",
              " 2876787: 5,\n",
              " 2899352: 6,\n",
              " 2904104: 0,\n",
              " 2905635: 8,\n",
              " 2905913: 6,\n",
              " 2906412: 1,\n",
              " 2932938: 0,\n",
              " 2941762: 0,\n",
              " 2949812: 8,\n",
              " 2957715: 6,\n",
              " 2963342: 9,\n",
              " 2963814: 9,\n",
              " 2975312: 5,\n",
              " 2992806: 0,\n",
              " 2994321: 0,\n",
              " 3012277: 9,\n",
              " 3013565: 2,\n",
              " 3045593: 8,\n",
              " 3076548: 0,\n",
              " 3094067: 6,\n",
              " 3124068: 6,\n",
              " 3125988: 9,\n",
              " 3131440: 0,\n",
              " 3145978: 5,\n",
              " 3148165: 9,\n",
              " 3151123: 9,\n",
              " 3153326: 9,\n",
              " 3171201: 0,\n",
              " 3172075: 2,\n",
              " 3176086: 0,\n",
              " 3181717: 1,\n",
              " 3206883: 6,\n",
              " 3207595: 5,\n",
              " 3211574: 9,\n",
              " 3217814: 0,\n",
              " 3231293: 6,\n",
              " 3245453: 0,\n",
              " 3253562: 9,\n",
              " 3263979: 0,\n",
              " 3279203: 2,\n",
              " 3286152: 6,\n",
              " 3287993: 2,\n",
              " 3294556: 1,\n",
              " 3295873: 8,\n",
              " 3337348: 9,\n",
              " 3353400: 3,\n",
              " 3365809: 2,\n",
              " 3367397: 6,\n",
              " 3393723: 1,\n",
              " 3423371: 8,\n",
              " 3427970: 2,\n",
              " 3437508: 0,\n",
              " 3444328: 1,\n",
              " 3459193: 6,\n",
              " 3465394: 0,\n",
              " 3465860: 6,\n",
              " 3474936: 1,\n",
              " 3482486: 1,\n",
              " 3494453: 6,\n",
              " 3494871: 6,\n",
              " 3495684: 5,\n",
              " 3513038: 9,\n",
              " 3515410: 1,\n",
              " 3551982: 1,\n",
              " 3566162: 9,\n",
              " 3573998: 1,\n",
              " 3587735: 9,\n",
              " 3610073: 9,\n",
              " 3616570: 0,\n",
              " 3633976: 2,\n",
              " 3643417: 0,\n",
              " 3644665: 6,\n",
              " 3646672: 6,\n",
              " 3646704: 5,\n",
              " 3682218: 5,\n",
              " 3699110: 6,\n",
              " 3722645: 0,\n",
              " 3759445: 2,\n",
              " 3812254: 6,\n",
              " 3819404: 1,\n",
              " 3834104: 2,\n",
              " 3853445: 1,\n",
              " 3858357: 9,\n",
              " 3886381: 1,\n",
              " 3892253: 0,\n",
              " 3968680: 6,\n",
              " 3972893: 0,\n",
              " 4012186: 5,\n",
              " 4024480: 6,\n",
              " 4042493: 6,\n",
              " 4061568: 2,\n",
              " 4066001: 5,\n",
              " 4076280: 5,\n",
              " 4091593: 5,\n",
              " 4144498: 0,\n",
              " 4160261: 1,\n",
              " 4160275: 2,\n",
              " 4162294: 6,\n",
              " 4162919: 8,\n",
              " 4173308: 6,\n",
              " 4175419: 9,\n",
              " 4181242: 0,\n",
              " 4217521: 5,\n",
              " 4227745: 8,\n",
              " 4229294: 6,\n",
              " 4231846: 2,\n",
              " 4246276: 8,\n",
              " 4247985: 9,\n",
              " 4289670: 1,\n",
              " 4302032: 1,\n",
              " 4308908: 0,\n",
              " 4323204: 6,\n",
              " 4334297: 2,\n",
              " 4367248: 1,\n",
              " 4369729: 9,\n",
              " 4370327: 6,\n",
              " 4373167: 2,\n",
              " 4374369: 6,\n",
              " 4394327: 5,\n",
              " 4396261: 0,\n",
              " 4422692: 5,\n",
              " 4426887: 1,\n",
              " 4430504: 6,\n",
              " 4488698: 0,\n",
              " 4518686: 6,\n",
              " 4571914: 8,\n",
              " 4578839: 5,\n",
              " 4582472: 2,\n",
              " 4606173: 9,\n",
              " 4623518: 0,\n",
              " 4639552: 9,\n",
              " 4665615: 6,\n",
              " 4667575: 5,\n",
              " 4668935: 9,\n",
              " 4684789: 9,\n",
              " 4775796: 9,\n",
              " 4808303: 0,\n",
              " 4822320: 8,\n",
              " 4823301: 2,\n",
              " 4828346: 2,\n",
              " 4842778: 1,\n",
              " 4845503: 6,\n",
              " 4853600: 5,\n",
              " 4859873: 2,\n",
              " 4882066: 8,\n",
              " 4892144: 0,\n",
              " 4892651: 1,\n",
              " 4904550: 0,\n",
              " 4926701: 5,\n",
              " 4935995: 2,\n",
              " 4956790: 2,\n",
              " 4960177: 2,\n",
              " 4970185: 9,\n",
              " 4974475: 6,\n",
              " 4986190: 1,\n",
              " 4994279: 8,\n",
              " 5002813: 9,\n",
              " 5011962: 6,\n",
              " 5012588: 6,\n",
              " 5014347: 3,\n",
              " 5014751: 6,\n",
              " 5015350: 2,\n",
              " 5024373: 6,\n",
              " 5026498: 5,\n",
              " 5033671: 0,\n",
              " 5039838: 9,\n",
              " 5051971: 5,\n",
              " 5082006: 5,\n",
              " 5086815: 1,\n",
              " 5086854: 6,\n",
              " 5089975: 6,\n",
              " 5098199: 9,\n",
              " 5108449: 1,\n",
              " 5112612: 1,\n",
              " 5126708: 6,\n",
              " 5127215: 9,\n",
              " 5136184: 8,\n",
              " 5147316: 0,\n",
              " 5156203: 2,\n",
              " 5172223: 0,\n",
              " 5176679: 1,\n",
              " 5182106: 1,\n",
              " 5189720: 9,\n",
              " 5194664: 9,\n",
              " 5204961: 9,\n",
              " 5212607: 6,\n",
              " 5231824: 5,\n",
              " 5254513: 9,\n",
              " 5279251: 6,\n",
              " 5289810: 8,\n",
              " 5296300: 8,\n",
              " 5300067: 6,\n",
              " 5306829: 2,\n",
              " 5308998: 1,\n",
              " 5320383: 6,\n",
              " 5327127: 9,\n",
              " 5339662: 6,\n",
              " 5395636: 5,\n",
              " 5404122: 0,\n",
              " 5405724: 5,\n",
              " 5418804: 9,\n",
              " 5442457: 2,\n",
              " 5467465: 2,\n",
              " 5475671: 1,\n",
              " 5522282: 1,\n",
              " 5526289: 7,\n",
              " 5526747: 1,\n",
              " 5535133: 2,\n",
              " 5545870: 0,\n",
              " 5548522: 9,\n",
              " 5554363: 2,\n",
              " 5563201: 6,\n",
              " 5584606: 6,\n",
              " 5601077: 2,\n",
              " 5609556: 8,\n",
              " 5610442: 1,\n",
              " 5636999: 0,\n",
              " 5660252: 9,\n",
              " 5662815: 2,\n",
              " 5686537: 9,\n",
              " 5691461: 9,\n",
              " 5718528: 8,\n",
              " 5738085: 8,\n",
              " 5738293: 1,\n",
              " 5742602: 6,\n",
              " 5747322: 2,\n",
              " 5772561: 6,\n",
              " 5815424: 1,\n",
              " 5817449: 0,\n",
              " 5845327: 0,\n",
              " 5921083: 6,\n",
              " 5922525: 9,\n",
              " 5931939: 8,\n",
              " 5947629: 6,\n",
              " 5960069: 6,\n",
              " 5985014: 9,\n",
              " 5985410: 6,\n",
              " 6006612: 1,\n",
              " 6014942: 3,\n",
              " 6015500: 6,\n",
              " 6043670: 0,\n",
              " 6048798: 0,\n",
              " 6050925: 1,\n",
              " 6061414: 1,\n",
              " 6066097: 5,\n",
              " 6076654: 5,\n",
              " 6096271: 5,\n",
              " 6096955: 3,\n",
              " 6117794: 9,\n",
              " 6118155: 6,\n",
              " 6118970: 0,\n",
              " 6123921: 9,\n",
              " 6136581: 0,\n",
              " 6177245: 0,\n",
              " 6185406: 9,\n",
              " 6196675: 1,\n",
              " 6201376: 0,\n",
              " 6235438: 1,\n",
              " 6255289: 2,\n",
              " 6260362: 0,\n",
              " 6282347: 2,\n",
              " 6296457: 6,\n",
              " 6317371: 0,\n",
              " 6402771: 0,\n",
              " 6424948: 6,\n",
              " 6433171: 9,\n",
              " 6434019: 5,\n",
              " 6439366: 9,\n",
              " 6455032: 0,\n",
              " 6471999: 2,\n",
              " 6480339: 2,\n",
              " 6485051: 0,\n",
              " 6491855: 5,\n",
              " 6502420: 6,\n",
              " 6507017: 2,\n",
              " 6510070: 2,\n",
              " 6525504: 9,\n",
              " 6539267: 0,\n",
              " 6545712: 8,\n",
              " 6561200: 9,\n",
              " 6574762: 1,\n",
              " 6584564: 9,\n",
              " 6601244: 5,\n",
              " 6601261: 0,\n",
              " 6610104: 9,\n",
              " 6611166: 1,\n",
              " 6628242: 1,\n",
              " 6656634: 9,\n",
              " 6701507: 2,\n",
              " 6719777: 1,\n",
              " 6722411: 1,\n",
              " 6723887: 1,\n",
              " 6728053: 5,\n",
              " 6756082: 5,\n",
              " 6766457: 0,\n",
              " 6767519: 9,\n",
              " 6822977: 5,\n",
              " 6837460: 0,\n",
              " 6844496: 0,\n",
              " 6862925: 2,\n",
              " 6873779: 9,\n",
              " 6879331: 1,\n",
              " 6896230: 6,\n",
              " 6918388: 5,\n",
              " 6918958: 0,\n",
              " 6921755: 0,\n",
              " 6926167: 9,\n",
              " 6952471: 9,\n",
              " 6967376: 0,\n",
              " 6972396: 2,\n",
              " 6998066: 0,\n",
              " 7008426: 2,\n",
              " 7019847: 2,\n",
              " 7020887: 0,\n",
              " 7022653: 2,\n",
              " 7041802: 8,\n",
              " 7051446: 5,\n",
              " 7058509: 0,\n",
              " 7063584: 5,\n",
              " 7068335: 9,\n",
              " 7069898: 8,\n",
              " 7070014: 0,\n",
              " 7073173: 5,\n",
              " 7122590: 2,\n",
              " 7130094: 0,\n",
              " 7158688: 9,\n",
              " 7165549: 0,\n",
              " 7185907: 1,\n",
              " 7188481: 9,\n",
              " 7195541: 2,\n",
              " 7196160: 6,\n",
              " 7213514: 0,\n",
              " 7228234: 2,\n",
              " 7234663: 9,\n",
              " 7251573: 0,\n",
              " 7263592: 0,\n",
              " 7266463: 0,\n",
              " 7295632: 2,\n",
              " 7297770: 2,\n",
              " 7303219: 0,\n",
              " 7322729: 9,\n",
              " 7331033: 1,\n",
              " 7336341: 9,\n",
              " 7354509: 1,\n",
              " 7362495: 6,\n",
              " 7373402: 9,\n",
              " 7402271: 5,\n",
              " 7414845: 5,\n",
              " 7422867: 2,\n",
              " 7428746: 0,\n",
              " 7436946: 0,\n",
              " 7446886: 9,\n",
              " 7517050: 1,\n",
              " 7517055: 6,\n",
              " 7542732: 0,\n",
              " 7547704: 9,\n",
              " 7560727: 1,\n",
              " 7574990: 8,\n",
              " 7584619: 6,\n",
              " 7602686: 8,\n",
              " 7628039: 1,\n",
              " 7651276: 1,\n",
              " 7652155: 1,\n",
              " 7668064: 0,\n",
              " 7682015: 2,\n",
              " 7699158: 5,\n",
              " 7705343: 1,\n",
              " 7724254: 1,\n",
              " 7742858: 0,\n",
              " 7764104: 9,\n",
              " 7774962: 1,\n",
              " 7780494: 2,\n",
              " 7780500: 1,\n",
              " 7781109: 1,\n",
              " 7835836: 6,\n",
              " 7836056: 9,\n",
              " 7887118: 2,\n",
              " 7890092: 2,\n",
              " 7892152: 2,\n",
              " 7899606: 2,\n",
              " 7903852: 0,\n",
              " 7906031: 5,\n",
              " 7925712: 9,\n",
              " 7928265: 0,\n",
              " 7932533: 6,\n",
              " 7942981: 1,\n",
              " 7943747: 6,\n",
              " 7960191: 0,\n",
              " 7994415: 0,\n",
              " 8026614: 6,\n",
              " 8031266: 0,\n",
              " 8034049: 2,\n",
              " 8036151: 0,\n",
              " 8060400: 2,\n",
              " 8069779: 2,\n",
              " 8070473: 9,\n",
              " 8085583: 0,\n",
              " 8095160: 0,\n",
              " 8104397: 5,\n",
              " 8107936: 9,\n",
              " 8123629: 2,\n",
              " 8160830: 6,\n",
              " 8175891: 2,\n",
              " 8179274: 0,\n",
              " 8200745: 2,\n",
              " 8225044: 6,\n",
              " 8232541: 0,\n",
              " 8280677: 6,\n",
              " 8282729: 6,\n",
              " 8286596: 6,\n",
              " 8294469: 8,\n",
              " 8296975: 5,\n",
              " 8303353: 1,\n",
              " 8320930: 2,\n",
              " 8332773: 6,\n",
              " 8350622: 2,\n",
              " 8390933: 0,\n",
              " 8434772: 8,\n",
              " 8449107: 9,\n",
              " 8458729: 6,\n",
              " 8475477: 9,\n",
              " 8482952: 9,\n",
              " 8485857: 1,\n",
              " 8490346: 6,\n",
              " 8517770: 2,\n",
              " 8557059: 6,\n",
              " 8587524: 6,\n",
              " 8588368: 5,\n",
              " 8592201: 3,\n",
              " 8599789: 6,\n",
              " 8635588: 6,\n",
              " 8666462: 1,\n",
              " 8668220: 0,\n",
              " 8673735: 8,\n",
              " 8702040: 0,\n",
              " 8716913: 1,\n",
              " 8717009: 5,\n",
              " 8736443: 6,\n",
              " 8738257: 5,\n",
              " 8742677: 1,\n",
              " 8750498: 0,\n",
              " 8757550: 0,\n",
              " 8777055: 9,\n",
              " 8777961: 2,\n",
              " 8782243: 5,\n",
              " 8785883: 0,\n",
              " 8787744: 6,\n",
              " 8793156: 1,\n",
              " 8862507: 6,\n",
              " 8870685: 6,\n",
              " 8871349: 0,\n",
              " 8877862: 0,\n",
              " 8890696: 4,\n",
              " 8892679: 6,\n",
              " 8894762: 5,\n",
              " 8897617: 2,\n",
              " 8909640: 6,\n",
              " 8913765: 9,\n",
              " 8956353: 6,\n",
              " 8961127: 6,\n",
              " 8969576: 1,\n",
              " 8975312: 9,\n",
              " 8977394: 2,\n",
              " 8977908: 2,\n",
              " 8979080: 6,\n",
              " 8992460: 0,\n",
              " 8999011: 0,\n",
              " 9001890: 0,\n",
              " 9019307: 0,\n",
              " 9037679: 2,\n",
              " 9046145: 1,\n",
              " 9049777: 2,\n",
              " 9080779: 2,\n",
              " 9099508: 9,\n",
              " 9104384: 0,\n",
              " 9105253: 2,\n",
              " 9120184: 9,\n",
              " 9126509: 5,\n",
              " 9139479: 9,\n",
              " 9141930: 0,\n",
              " 9165283: 1,\n",
              " 9166596: 0,\n",
              " 9191223: 6,\n",
              " 9201865: 1,\n",
              " 9205628: 2,\n",
              " 9206442: 9,\n",
              " 9209001: 6,\n",
              " 9215220: 6,\n",
              " 9217047: 2,\n",
              " 9220998: 9,\n",
              " 9257652: 8,\n",
              " 9268183: 6,\n",
              " 9302960: 9,\n",
              " 9334559: 6,\n",
              " 9340178: 9,\n",
              " 9347775: 6,\n",
              " 9359324: 1,\n",
              " 9391802: 9,\n",
              " 9395056: 1,\n",
              " 9404345: 9,\n",
              " 9448393: 1,\n",
              " 9451259: 9,\n",
              " 9461768: 9,\n",
              " 9512896: 6,\n",
              " 9526399: 0,\n",
              " 9529595: 5,\n",
              " 9552125: 2,\n",
              " 9561141: 5,\n",
              " 9562175: 5,\n",
              " 9614860: 6,\n",
              " 9618317: 6,\n",
              " 9621332: 6,\n",
              " 9622529: 5,\n",
              " 9622961: 2,\n",
              " 9627483: 6,\n",
              " 9645249: 2,\n",
              " 9655288: 5,\n",
              " 9669893: 2,\n",
              " 9675620: 2,\n",
              " 9699558: 6,\n",
              " 9713129: 6,\n",
              " 9739358: 0,\n",
              " 9756558: 0,\n",
              " 9763455: 0,\n",
              " 9766952: 5,\n",
              " 9769339: 0,\n",
              " 9786668: 6,\n",
              " 9788150: 1,\n",
              " 9806930: 5,\n",
              " 9808972: 6,\n",
              " 9809003: 2,\n",
              " 9809116: 2,\n",
              " 9819801: 6,\n",
              " 9852370: 9,\n",
              " 9855225: 1,\n",
              " 9862411: 8,\n",
              " 9869550: 9,\n",
              " 9897278: 6,\n",
              " 9901432: 6,\n",
              " 9924711: 9,\n",
              " 9939040: 9,\n",
              " 9952090: 6,\n",
              " 9956180: 0,\n",
              " 9963887: 0,\n",
              " 10008498: 2,\n",
              " 10008598: 2,\n",
              " 10018128: 5,\n",
              " 10071903: 0,\n",
              " 10114125: 1,\n",
              " 10115022: 6,\n",
              " 10117522: 9,\n",
              " 10124847: 0,\n",
              " 10129820: 5,\n",
              " 10137392: 0,\n",
              " 10156877: 2,\n",
              " 10160600: 1,\n",
              " 10162243: 2,\n",
              " 10162737: 2,\n",
              " 10196239: 2,\n",
              " 10202964: 6,\n",
              " 10206816: 8,\n",
              " 10239428: 0,\n",
              " 10241576: 6,\n",
              " 10251211: 9,\n",
              " 10260854: 1,\n",
              " 10289502: 8,\n",
              " 10291047: 1,\n",
              " 10312841: 6,\n",
              " 10319912: 6,\n",
              " 10327434: 2,\n",
              " 10328818: 6,\n",
              " 10332732: 6,\n",
              " 10340423: 8,\n",
              " 10344102: 6,\n",
              " 10353479: 0,\n",
              " 10359694: 0,\n",
              " 10366084: 6,\n",
              " 10367031: 0}"
            ]
          },
          "metadata": {},
          "execution_count": 262
        }
      ]
    },
    {
      "cell_type": "code",
      "source": [
        "for node in c3:\n",
        "  (graph_4.nodes.get(node))[\"louvain_community\"] = c2[node]"
      ],
      "metadata": {
        "id": "KOWhAz1x6xB6"
      },
      "execution_count": null,
      "outputs": []
    },
    {
      "cell_type": "code",
      "source": [
        "nx.write_gexf(graph_4, \"graph_4_w_full.gexf\")"
      ],
      "metadata": {
        "id": "wqwJupqf6xB6"
      },
      "execution_count": null,
      "outputs": []
    }
  ]
}